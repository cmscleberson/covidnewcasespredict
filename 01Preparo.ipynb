{
  "nbformat": 4,
  "nbformat_minor": 0,
  "metadata": {
    "kernelspec": {
      "display_name": "Python 3",
      "language": "python",
      "name": "python3"
    },
    "language_info": {
      "codemirror_mode": {
        "name": "ipython",
        "version": 3
      },
      "file_extension": ".py",
      "mimetype": "text/x-python",
      "name": "python",
      "nbconvert_exporter": "python",
      "pygments_lexer": "ipython3",
      "version": "3.7.4"
    },
    "colab": {
      "name": "01Preparo.ipynb",
      "provenance": []
    }
  },
  "cells": [
    {
      "cell_type": "code",
      "metadata": {
        "id": "Na5CcW-DNXjR"
      },
      "source": [
        "import pandas as pd"
      ],
      "execution_count": 112,
      "outputs": []
    },
    {
      "cell_type": "code",
      "metadata": {
        "id": "pYLriYWCNXjR"
      },
      "source": [
        "from sklearn.model_selection import train_test_split"
      ],
      "execution_count": 113,
      "outputs": []
    },
    {
      "cell_type": "code",
      "metadata": {
        "colab": {
          "base_uri": "https://localhost:8080/"
        },
        "id": "6FK9eYHVOdh3",
        "outputId": "c8e5b978-17d5-484c-8ced-bd5fa6deac2b"
      },
      "source": [
        "from google.colab import drive\n",
        "drive.mount('/content/drive')"
      ],
      "execution_count": 114,
      "outputs": [
        {
          "output_type": "stream",
          "text": [
            "Drive already mounted at /content/drive; to attempt to forcibly remount, call drive.mount(\"/content/drive\", force_remount=True).\n"
          ],
          "name": "stdout"
        }
      ]
    },
    {
      "cell_type": "code",
      "metadata": {
        "id": "Z9Ihg2TCNXjR"
      },
      "source": [
        "import numpy as np"
      ],
      "execution_count": 115,
      "outputs": []
    },
    {
      "cell_type": "code",
      "metadata": {
        "id": "UU9kjN19NXjR"
      },
      "source": [
        ""
      ],
      "execution_count": 115,
      "outputs": []
    },
    {
      "cell_type": "code",
      "metadata": {
        "id": "eaAnUigKRgIh"
      },
      "source": [
        "#Carregamento do dataaset principal com dados de casos de infecções"
      ],
      "execution_count": 116,
      "outputs": []
    },
    {
      "cell_type": "code",
      "metadata": {
        "id": "KWznlsqmNXjR"
      },
      "source": [
        "dfCovid = pd.read_csv('/content/drive/MyDrive/Colab Notebooks/ProjetoFinal/covid.csv', index_col=[0], low_memory=False, error_bad_lines=False, sep=';')"
      ],
      "execution_count": 117,
      "outputs": []
    },
    {
      "cell_type": "code",
      "metadata": {
        "colab": {
          "base_uri": "https://localhost:8080/",
          "height": 533
        },
        "id": "cy7PhSZZNXjR",
        "outputId": "9631e531-bbaa-4a43-973d-05fec54043bc"
      },
      "source": [
        "dfCovid"
      ],
      "execution_count": 118,
      "outputs": [
        {
          "output_type": "execute_result",
          "data": {
            "text/html": [
              "<div>\n",
              "<style scoped>\n",
              "    .dataframe tbody tr th:only-of-type {\n",
              "        vertical-align: middle;\n",
              "    }\n",
              "\n",
              "    .dataframe tbody tr th {\n",
              "        vertical-align: top;\n",
              "    }\n",
              "\n",
              "    .dataframe thead th {\n",
              "        text-align: right;\n",
              "    }\n",
              "</style>\n",
              "<table border=\"1\" class=\"dataframe\">\n",
              "  <thead>\n",
              "    <tr style=\"text-align: right;\">\n",
              "      <th></th>\n",
              "      <th>estado</th>\n",
              "      <th>municipio</th>\n",
              "      <th>coduf</th>\n",
              "      <th>codmun</th>\n",
              "      <th>codRegiaoSaude</th>\n",
              "      <th>nomeRegiaoSaude</th>\n",
              "      <th>data</th>\n",
              "      <th>semanaEpi</th>\n",
              "      <th>populacaoTCU2019</th>\n",
              "      <th>casosAcumulado</th>\n",
              "      <th>casosNovos</th>\n",
              "      <th>obitosAcumulado</th>\n",
              "      <th>obitosNovos</th>\n",
              "      <th>Recuperadosnovos</th>\n",
              "      <th>emAcompanhamentoNovos</th>\n",
              "      <th>interiormetro</th>\n",
              "    </tr>\n",
              "    <tr>\n",
              "      <th>regiao</th>\n",
              "      <th></th>\n",
              "      <th></th>\n",
              "      <th></th>\n",
              "      <th></th>\n",
              "      <th></th>\n",
              "      <th></th>\n",
              "      <th></th>\n",
              "      <th></th>\n",
              "      <th></th>\n",
              "      <th></th>\n",
              "      <th></th>\n",
              "      <th></th>\n",
              "      <th></th>\n",
              "      <th></th>\n",
              "      <th></th>\n",
              "      <th></th>\n",
              "    </tr>\n",
              "  </thead>\n",
              "  <tbody>\n",
              "    <tr>\n",
              "      <th>Brasil</th>\n",
              "      <td>NaN</td>\n",
              "      <td>-</td>\n",
              "      <td>76</td>\n",
              "      <td>NaN</td>\n",
              "      <td>NaN</td>\n",
              "      <td>NaN</td>\n",
              "      <td>25/02/2020</td>\n",
              "      <td>9</td>\n",
              "      <td>210147125.0</td>\n",
              "      <td>0</td>\n",
              "      <td>0</td>\n",
              "      <td>0</td>\n",
              "      <td>0</td>\n",
              "      <td>NaN</td>\n",
              "      <td>NaN</td>\n",
              "      <td>NaN</td>\n",
              "    </tr>\n",
              "    <tr>\n",
              "      <th>Brasil</th>\n",
              "      <td>NaN</td>\n",
              "      <td>-</td>\n",
              "      <td>76</td>\n",
              "      <td>NaN</td>\n",
              "      <td>NaN</td>\n",
              "      <td>NaN</td>\n",
              "      <td>26/02/2020</td>\n",
              "      <td>9</td>\n",
              "      <td>210147125.0</td>\n",
              "      <td>1</td>\n",
              "      <td>1</td>\n",
              "      <td>0</td>\n",
              "      <td>0</td>\n",
              "      <td>NaN</td>\n",
              "      <td>NaN</td>\n",
              "      <td>NaN</td>\n",
              "    </tr>\n",
              "    <tr>\n",
              "      <th>Brasil</th>\n",
              "      <td>NaN</td>\n",
              "      <td>-</td>\n",
              "      <td>76</td>\n",
              "      <td>NaN</td>\n",
              "      <td>NaN</td>\n",
              "      <td>NaN</td>\n",
              "      <td>27/02/2020</td>\n",
              "      <td>9</td>\n",
              "      <td>210147125.0</td>\n",
              "      <td>1</td>\n",
              "      <td>0</td>\n",
              "      <td>0</td>\n",
              "      <td>0</td>\n",
              "      <td>NaN</td>\n",
              "      <td>NaN</td>\n",
              "      <td>NaN</td>\n",
              "    </tr>\n",
              "    <tr>\n",
              "      <th>Brasil</th>\n",
              "      <td>NaN</td>\n",
              "      <td>-</td>\n",
              "      <td>76</td>\n",
              "      <td>NaN</td>\n",
              "      <td>NaN</td>\n",
              "      <td>NaN</td>\n",
              "      <td>28/02/2020</td>\n",
              "      <td>9</td>\n",
              "      <td>210147125.0</td>\n",
              "      <td>1</td>\n",
              "      <td>0</td>\n",
              "      <td>0</td>\n",
              "      <td>0</td>\n",
              "      <td>NaN</td>\n",
              "      <td>NaN</td>\n",
              "      <td>NaN</td>\n",
              "    </tr>\n",
              "    <tr>\n",
              "      <th>Brasil</th>\n",
              "      <td>NaN</td>\n",
              "      <td>-</td>\n",
              "      <td>76</td>\n",
              "      <td>NaN</td>\n",
              "      <td>NaN</td>\n",
              "      <td>NaN</td>\n",
              "      <td>29/02/2020</td>\n",
              "      <td>9</td>\n",
              "      <td>210147125.0</td>\n",
              "      <td>2</td>\n",
              "      <td>1</td>\n",
              "      <td>0</td>\n",
              "      <td>0</td>\n",
              "      <td>NaN</td>\n",
              "      <td>NaN</td>\n",
              "      <td>NaN</td>\n",
              "    </tr>\n",
              "    <tr>\n",
              "      <th>...</th>\n",
              "      <td>...</td>\n",
              "      <td>...</td>\n",
              "      <td>...</td>\n",
              "      <td>...</td>\n",
              "      <td>...</td>\n",
              "      <td>...</td>\n",
              "      <td>...</td>\n",
              "      <td>...</td>\n",
              "      <td>...</td>\n",
              "      <td>...</td>\n",
              "      <td>...</td>\n",
              "      <td>...</td>\n",
              "      <td>...</td>\n",
              "      <td>...</td>\n",
              "      <td>...</td>\n",
              "      <td>...</td>\n",
              "    </tr>\n",
              "    <tr>\n",
              "      <th>Sul</th>\n",
              "      <td>RS</td>\n",
              "      <td>Três de Maio</td>\n",
              "      <td>43</td>\n",
              "      <td>432180.0</td>\n",
              "      <td>43014.0</td>\n",
              "      <td>REGIAO 14</td>\n",
              "      <td>26/08/2020</td>\n",
              "      <td>35</td>\n",
              "      <td>23906.0</td>\n",
              "      <td>141</td>\n",
              "      <td>10</td>\n",
              "      <td>0</td>\n",
              "      <td>0</td>\n",
              "      <td>NaN</td>\n",
              "      <td>NaN</td>\n",
              "      <td>0.0</td>\n",
              "    </tr>\n",
              "    <tr>\n",
              "      <th>Sul</th>\n",
              "      <td>RS</td>\n",
              "      <td>Três de Maio</td>\n",
              "      <td>43</td>\n",
              "      <td>432180.0</td>\n",
              "      <td>43014.0</td>\n",
              "      <td>REGIAO 14</td>\n",
              "      <td>27/08/2020</td>\n",
              "      <td>35</td>\n",
              "      <td>23906.0</td>\n",
              "      <td>145</td>\n",
              "      <td>4</td>\n",
              "      <td>0</td>\n",
              "      <td>0</td>\n",
              "      <td>NaN</td>\n",
              "      <td>NaN</td>\n",
              "      <td>0.0</td>\n",
              "    </tr>\n",
              "    <tr>\n",
              "      <th>Sul</th>\n",
              "      <td>RS</td>\n",
              "      <td>Três de Maio</td>\n",
              "      <td>43</td>\n",
              "      <td>432180.0</td>\n",
              "      <td>43014.0</td>\n",
              "      <td>REGIAO 14</td>\n",
              "      <td>28/08/2020</td>\n",
              "      <td>35</td>\n",
              "      <td>23906.0</td>\n",
              "      <td>146</td>\n",
              "      <td>1</td>\n",
              "      <td>0</td>\n",
              "      <td>0</td>\n",
              "      <td>NaN</td>\n",
              "      <td>NaN</td>\n",
              "      <td>0.0</td>\n",
              "    </tr>\n",
              "    <tr>\n",
              "      <th>Sul</th>\n",
              "      <td>RS</td>\n",
              "      <td>Três de Maio</td>\n",
              "      <td>43</td>\n",
              "      <td>432180.0</td>\n",
              "      <td>43014.0</td>\n",
              "      <td>REGIAO 14</td>\n",
              "      <td>29/08/2020</td>\n",
              "      <td>35</td>\n",
              "      <td>23906.0</td>\n",
              "      <td>151</td>\n",
              "      <td>5</td>\n",
              "      <td>2</td>\n",
              "      <td>2</td>\n",
              "      <td>NaN</td>\n",
              "      <td>NaN</td>\n",
              "      <td>0.0</td>\n",
              "    </tr>\n",
              "    <tr>\n",
              "      <th>Sul</th>\n",
              "      <td>RS</td>\n",
              "      <td>Três de Maio</td>\n",
              "      <td>43</td>\n",
              "      <td>432180.0</td>\n",
              "      <td>43014.0</td>\n",
              "      <td>REGIAO 14</td>\n",
              "      <td>30/08/2020</td>\n",
              "      <td>36</td>\n",
              "      <td>23906.0</td>\n",
              "      <td>151</td>\n",
              "      <td>0</td>\n",
              "      <td>2</td>\n",
              "      <td>0</td>\n",
              "      <td>NaN</td>\n",
              "      <td>NaN</td>\n",
              "      <td>0.0</td>\n",
              "    </tr>\n",
              "  </tbody>\n",
              "</table>\n",
              "<p>1048575 rows × 16 columns</p>\n",
              "</div>"
            ],
            "text/plain": [
              "       estado     municipio  ...  emAcompanhamentoNovos  interiormetro\n",
              "regiao                       ...                                      \n",
              "Brasil    NaN             -  ...                    NaN            NaN\n",
              "Brasil    NaN             -  ...                    NaN            NaN\n",
              "Brasil    NaN             -  ...                    NaN            NaN\n",
              "Brasil    NaN             -  ...                    NaN            NaN\n",
              "Brasil    NaN             -  ...                    NaN            NaN\n",
              "...       ...           ...  ...                    ...            ...\n",
              "Sul        RS  Três de Maio  ...                    NaN            0.0\n",
              "Sul        RS  Três de Maio  ...                    NaN            0.0\n",
              "Sul        RS  Três de Maio  ...                    NaN            0.0\n",
              "Sul        RS  Três de Maio  ...                    NaN            0.0\n",
              "Sul        RS  Três de Maio  ...                    NaN            0.0\n",
              "\n",
              "[1048575 rows x 16 columns]"
            ]
          },
          "metadata": {
            "tags": []
          },
          "execution_count": 118
        }
      ]
    },
    {
      "cell_type": "code",
      "metadata": {
        "id": "cDrVocgIRs6o"
      },
      "source": [
        ""
      ],
      "execution_count": 118,
      "outputs": []
    },
    {
      "cell_type": "code",
      "metadata": {
        "id": "wjG4t40aRs--"
      },
      "source": [
        "#Resumo das informações do dataset"
      ],
      "execution_count": 119,
      "outputs": []
    },
    {
      "cell_type": "code",
      "metadata": {
        "colab": {
          "base_uri": "https://localhost:8080/"
        },
        "id": "9P_8sYPaNXjS",
        "outputId": "a64fa7c1-ac9e-403e-a869-e76de2f05a9a"
      },
      "source": [
        "dfCovid.isna().sum()"
      ],
      "execution_count": 120,
      "outputs": [
        {
          "output_type": "execute_result",
          "data": {
            "text/plain": [
              "estado                       236\n",
              "municipio                   3690\n",
              "coduf                          0\n",
              "codmun                      6608\n",
              "codRegiaoSaude             10503\n",
              "nomeRegiaoSaude            10503\n",
              "data                           0\n",
              "semanaEpi                      0\n",
              "populacaoTCU2019            3895\n",
              "casosAcumulado                 0\n",
              "casosNovos                     0\n",
              "obitosAcumulado                0\n",
              "obitosNovos                    0\n",
              "Recuperadosnovos         1048393\n",
              "emAcompanhamentoNovos    1048393\n",
              "interiormetro              10503\n",
              "dtype: int64"
            ]
          },
          "metadata": {
            "tags": []
          },
          "execution_count": 120
        }
      ]
    },
    {
      "cell_type": "code",
      "metadata": {
        "id": "iYR1PJG2RzFS"
      },
      "source": [
        ""
      ],
      "execution_count": 120,
      "outputs": []
    },
    {
      "cell_type": "code",
      "metadata": {
        "id": "yh8ier-eRzIr"
      },
      "source": [
        "#Eliminação das colunas sem interesse"
      ],
      "execution_count": 121,
      "outputs": []
    },
    {
      "cell_type": "code",
      "metadata": {
        "id": "UhEhnb_ANXjT"
      },
      "source": [
        "dfCovid.drop(['coduf','codmun','codRegiaoSaude','nomeRegiaoSaude','interiormetro'], axis=1, inplace=True)"
      ],
      "execution_count": 122,
      "outputs": []
    },
    {
      "cell_type": "code",
      "metadata": {
        "colab": {
          "base_uri": "https://localhost:8080/",
          "height": 428
        },
        "id": "-h4v-38JNXjT",
        "outputId": "d142edfe-bfd2-4c31-a8e5-0007229385b3"
      },
      "source": [
        "dfCovid"
      ],
      "execution_count": 123,
      "outputs": [
        {
          "output_type": "execute_result",
          "data": {
            "text/html": [
              "<div>\n",
              "<style scoped>\n",
              "    .dataframe tbody tr th:only-of-type {\n",
              "        vertical-align: middle;\n",
              "    }\n",
              "\n",
              "    .dataframe tbody tr th {\n",
              "        vertical-align: top;\n",
              "    }\n",
              "\n",
              "    .dataframe thead th {\n",
              "        text-align: right;\n",
              "    }\n",
              "</style>\n",
              "<table border=\"1\" class=\"dataframe\">\n",
              "  <thead>\n",
              "    <tr style=\"text-align: right;\">\n",
              "      <th></th>\n",
              "      <th>estado</th>\n",
              "      <th>municipio</th>\n",
              "      <th>data</th>\n",
              "      <th>semanaEpi</th>\n",
              "      <th>populacaoTCU2019</th>\n",
              "      <th>casosAcumulado</th>\n",
              "      <th>casosNovos</th>\n",
              "      <th>obitosAcumulado</th>\n",
              "      <th>obitosNovos</th>\n",
              "      <th>Recuperadosnovos</th>\n",
              "      <th>emAcompanhamentoNovos</th>\n",
              "    </tr>\n",
              "    <tr>\n",
              "      <th>regiao</th>\n",
              "      <th></th>\n",
              "      <th></th>\n",
              "      <th></th>\n",
              "      <th></th>\n",
              "      <th></th>\n",
              "      <th></th>\n",
              "      <th></th>\n",
              "      <th></th>\n",
              "      <th></th>\n",
              "      <th></th>\n",
              "      <th></th>\n",
              "    </tr>\n",
              "  </thead>\n",
              "  <tbody>\n",
              "    <tr>\n",
              "      <th>Brasil</th>\n",
              "      <td>NaN</td>\n",
              "      <td>-</td>\n",
              "      <td>25/02/2020</td>\n",
              "      <td>9</td>\n",
              "      <td>210147125.0</td>\n",
              "      <td>0</td>\n",
              "      <td>0</td>\n",
              "      <td>0</td>\n",
              "      <td>0</td>\n",
              "      <td>NaN</td>\n",
              "      <td>NaN</td>\n",
              "    </tr>\n",
              "    <tr>\n",
              "      <th>Brasil</th>\n",
              "      <td>NaN</td>\n",
              "      <td>-</td>\n",
              "      <td>26/02/2020</td>\n",
              "      <td>9</td>\n",
              "      <td>210147125.0</td>\n",
              "      <td>1</td>\n",
              "      <td>1</td>\n",
              "      <td>0</td>\n",
              "      <td>0</td>\n",
              "      <td>NaN</td>\n",
              "      <td>NaN</td>\n",
              "    </tr>\n",
              "    <tr>\n",
              "      <th>Brasil</th>\n",
              "      <td>NaN</td>\n",
              "      <td>-</td>\n",
              "      <td>27/02/2020</td>\n",
              "      <td>9</td>\n",
              "      <td>210147125.0</td>\n",
              "      <td>1</td>\n",
              "      <td>0</td>\n",
              "      <td>0</td>\n",
              "      <td>0</td>\n",
              "      <td>NaN</td>\n",
              "      <td>NaN</td>\n",
              "    </tr>\n",
              "    <tr>\n",
              "      <th>Brasil</th>\n",
              "      <td>NaN</td>\n",
              "      <td>-</td>\n",
              "      <td>28/02/2020</td>\n",
              "      <td>9</td>\n",
              "      <td>210147125.0</td>\n",
              "      <td>1</td>\n",
              "      <td>0</td>\n",
              "      <td>0</td>\n",
              "      <td>0</td>\n",
              "      <td>NaN</td>\n",
              "      <td>NaN</td>\n",
              "    </tr>\n",
              "    <tr>\n",
              "      <th>Brasil</th>\n",
              "      <td>NaN</td>\n",
              "      <td>-</td>\n",
              "      <td>29/02/2020</td>\n",
              "      <td>9</td>\n",
              "      <td>210147125.0</td>\n",
              "      <td>2</td>\n",
              "      <td>1</td>\n",
              "      <td>0</td>\n",
              "      <td>0</td>\n",
              "      <td>NaN</td>\n",
              "      <td>NaN</td>\n",
              "    </tr>\n",
              "    <tr>\n",
              "      <th>...</th>\n",
              "      <td>...</td>\n",
              "      <td>...</td>\n",
              "      <td>...</td>\n",
              "      <td>...</td>\n",
              "      <td>...</td>\n",
              "      <td>...</td>\n",
              "      <td>...</td>\n",
              "      <td>...</td>\n",
              "      <td>...</td>\n",
              "      <td>...</td>\n",
              "      <td>...</td>\n",
              "    </tr>\n",
              "    <tr>\n",
              "      <th>Sul</th>\n",
              "      <td>RS</td>\n",
              "      <td>Três de Maio</td>\n",
              "      <td>26/08/2020</td>\n",
              "      <td>35</td>\n",
              "      <td>23906.0</td>\n",
              "      <td>141</td>\n",
              "      <td>10</td>\n",
              "      <td>0</td>\n",
              "      <td>0</td>\n",
              "      <td>NaN</td>\n",
              "      <td>NaN</td>\n",
              "    </tr>\n",
              "    <tr>\n",
              "      <th>Sul</th>\n",
              "      <td>RS</td>\n",
              "      <td>Três de Maio</td>\n",
              "      <td>27/08/2020</td>\n",
              "      <td>35</td>\n",
              "      <td>23906.0</td>\n",
              "      <td>145</td>\n",
              "      <td>4</td>\n",
              "      <td>0</td>\n",
              "      <td>0</td>\n",
              "      <td>NaN</td>\n",
              "      <td>NaN</td>\n",
              "    </tr>\n",
              "    <tr>\n",
              "      <th>Sul</th>\n",
              "      <td>RS</td>\n",
              "      <td>Três de Maio</td>\n",
              "      <td>28/08/2020</td>\n",
              "      <td>35</td>\n",
              "      <td>23906.0</td>\n",
              "      <td>146</td>\n",
              "      <td>1</td>\n",
              "      <td>0</td>\n",
              "      <td>0</td>\n",
              "      <td>NaN</td>\n",
              "      <td>NaN</td>\n",
              "    </tr>\n",
              "    <tr>\n",
              "      <th>Sul</th>\n",
              "      <td>RS</td>\n",
              "      <td>Três de Maio</td>\n",
              "      <td>29/08/2020</td>\n",
              "      <td>35</td>\n",
              "      <td>23906.0</td>\n",
              "      <td>151</td>\n",
              "      <td>5</td>\n",
              "      <td>2</td>\n",
              "      <td>2</td>\n",
              "      <td>NaN</td>\n",
              "      <td>NaN</td>\n",
              "    </tr>\n",
              "    <tr>\n",
              "      <th>Sul</th>\n",
              "      <td>RS</td>\n",
              "      <td>Três de Maio</td>\n",
              "      <td>30/08/2020</td>\n",
              "      <td>36</td>\n",
              "      <td>23906.0</td>\n",
              "      <td>151</td>\n",
              "      <td>0</td>\n",
              "      <td>2</td>\n",
              "      <td>0</td>\n",
              "      <td>NaN</td>\n",
              "      <td>NaN</td>\n",
              "    </tr>\n",
              "  </tbody>\n",
              "</table>\n",
              "<p>1048575 rows × 11 columns</p>\n",
              "</div>"
            ],
            "text/plain": [
              "       estado     municipio  ... Recuperadosnovos  emAcompanhamentoNovos\n",
              "regiao                       ...                                        \n",
              "Brasil    NaN             -  ...              NaN                    NaN\n",
              "Brasil    NaN             -  ...              NaN                    NaN\n",
              "Brasil    NaN             -  ...              NaN                    NaN\n",
              "Brasil    NaN             -  ...              NaN                    NaN\n",
              "Brasil    NaN             -  ...              NaN                    NaN\n",
              "...       ...           ...  ...              ...                    ...\n",
              "Sul        RS  Três de Maio  ...              NaN                    NaN\n",
              "Sul        RS  Três de Maio  ...              NaN                    NaN\n",
              "Sul        RS  Três de Maio  ...              NaN                    NaN\n",
              "Sul        RS  Três de Maio  ...              NaN                    NaN\n",
              "Sul        RS  Três de Maio  ...              NaN                    NaN\n",
              "\n",
              "[1048575 rows x 11 columns]"
            ]
          },
          "metadata": {
            "tags": []
          },
          "execution_count": 123
        }
      ]
    },
    {
      "cell_type": "code",
      "metadata": {
        "id": "01kHQOrDR3Yx"
      },
      "source": [
        ""
      ],
      "execution_count": 123,
      "outputs": []
    },
    {
      "cell_type": "code",
      "metadata": {
        "id": "yjPlNJHCR3bv"
      },
      "source": [
        "#Verificação de valores nulos"
      ],
      "execution_count": 124,
      "outputs": []
    },
    {
      "cell_type": "code",
      "metadata": {
        "colab": {
          "base_uri": "https://localhost:8080/"
        },
        "id": "hmAsD45dNXjT",
        "outputId": "9be109fb-87f5-4ab2-93af-5fd7ccd0a18d"
      },
      "source": [
        "dfCovid.isna().sum()\n"
      ],
      "execution_count": 125,
      "outputs": [
        {
          "output_type": "execute_result",
          "data": {
            "text/plain": [
              "estado                       236\n",
              "municipio                   3690\n",
              "data                           0\n",
              "semanaEpi                      0\n",
              "populacaoTCU2019            3895\n",
              "casosAcumulado                 0\n",
              "casosNovos                     0\n",
              "obitosAcumulado                0\n",
              "obitosNovos                    0\n",
              "Recuperadosnovos         1048393\n",
              "emAcompanhamentoNovos    1048393\n",
              "dtype: int64"
            ]
          },
          "metadata": {
            "tags": []
          },
          "execution_count": 125
        }
      ]
    },
    {
      "cell_type": "code",
      "metadata": {
        "id": "465Oz-CxR70E"
      },
      "source": [
        ""
      ],
      "execution_count": 125,
      "outputs": []
    },
    {
      "cell_type": "code",
      "metadata": {
        "id": "-7p5BeCbR76j"
      },
      "source": [
        "#Eliminação de valores nulos"
      ],
      "execution_count": 126,
      "outputs": []
    },
    {
      "cell_type": "code",
      "metadata": {
        "id": "BgjQeyQ0NXjT"
      },
      "source": [
        "dfCovid.dropna(subset=['municipio'], inplace=True)"
      ],
      "execution_count": 127,
      "outputs": []
    },
    {
      "cell_type": "code",
      "metadata": {
        "colab": {
          "base_uri": "https://localhost:8080/"
        },
        "id": "p7SvraBINXjT",
        "outputId": "1a0e01ea-77c9-4d63-829c-3a824394da3a"
      },
      "source": [
        "dfCovid.isna().sum()"
      ],
      "execution_count": 128,
      "outputs": [
        {
          "output_type": "execute_result",
          "data": {
            "text/plain": [
              "estado                       236\n",
              "municipio                      0\n",
              "data                           0\n",
              "semanaEpi                      0\n",
              "populacaoTCU2019             205\n",
              "casosAcumulado                 0\n",
              "casosNovos                     0\n",
              "obitosAcumulado                0\n",
              "obitosNovos                    0\n",
              "Recuperadosnovos         1044703\n",
              "emAcompanhamentoNovos    1044703\n",
              "dtype: int64"
            ]
          },
          "metadata": {
            "tags": []
          },
          "execution_count": 128
        }
      ]
    },
    {
      "cell_type": "code",
      "metadata": {
        "id": "dBGHiTu7R_8D"
      },
      "source": [
        ""
      ],
      "execution_count": 128,
      "outputs": []
    },
    {
      "cell_type": "code",
      "metadata": {
        "id": "_AUxxWJmSABy"
      },
      "source": [
        "#Inserção de valores 0 para dados ausentes"
      ],
      "execution_count": 129,
      "outputs": []
    },
    {
      "cell_type": "code",
      "metadata": {
        "id": "rC2rduyJNXjT"
      },
      "source": [
        "dfCovid['Recuperadosnovos'].fillna(0, inplace=True)"
      ],
      "execution_count": 130,
      "outputs": []
    },
    {
      "cell_type": "code",
      "metadata": {
        "id": "zpp--MSJNXjT"
      },
      "source": [
        "dfCovid['emAcompanhamentoNovos'].fillna(0, inplace=True)"
      ],
      "execution_count": 131,
      "outputs": []
    },
    {
      "cell_type": "code",
      "metadata": {
        "colab": {
          "base_uri": "https://localhost:8080/"
        },
        "id": "eD9wkJ3SNXjT",
        "outputId": "2ef651f2-c44d-4c1e-96bf-8372a28990eb"
      },
      "source": [
        "dfCovid.isna().sum()"
      ],
      "execution_count": 132,
      "outputs": [
        {
          "output_type": "execute_result",
          "data": {
            "text/plain": [
              "estado                   236\n",
              "municipio                  0\n",
              "data                       0\n",
              "semanaEpi                  0\n",
              "populacaoTCU2019         205\n",
              "casosAcumulado             0\n",
              "casosNovos                 0\n",
              "obitosAcumulado            0\n",
              "obitosNovos                0\n",
              "Recuperadosnovos           0\n",
              "emAcompanhamentoNovos      0\n",
              "dtype: int64"
            ]
          },
          "metadata": {
            "tags": []
          },
          "execution_count": 132
        }
      ]
    },
    {
      "cell_type": "code",
      "metadata": {
        "id": "QwjxzU74NXjT"
      },
      "source": [
        ""
      ],
      "execution_count": 132,
      "outputs": []
    },
    {
      "cell_type": "code",
      "metadata": {
        "id": "SI7_IDp7NXjT"
      },
      "source": [
        "#Alteração do nome das colunas"
      ],
      "execution_count": 133,
      "outputs": []
    },
    {
      "cell_type": "code",
      "metadata": {
        "id": "QCaNNYhZNXjT"
      },
      "source": [
        "dfCovid.rename(columns={'populacaoTCU2019':'popMunici','Recuperadosnovos':'recNovos','emAcompanhamentoNovos':'emAcompNovos'}, inplace=True)"
      ],
      "execution_count": 134,
      "outputs": []
    },
    {
      "cell_type": "code",
      "metadata": {
        "colab": {
          "base_uri": "https://localhost:8080/",
          "height": 428
        },
        "id": "W1zSF8YdNXjT",
        "outputId": "15cd48a7-96e6-4298-992e-bd800e5d3c09"
      },
      "source": [
        "dfCovid"
      ],
      "execution_count": 135,
      "outputs": [
        {
          "output_type": "execute_result",
          "data": {
            "text/html": [
              "<div>\n",
              "<style scoped>\n",
              "    .dataframe tbody tr th:only-of-type {\n",
              "        vertical-align: middle;\n",
              "    }\n",
              "\n",
              "    .dataframe tbody tr th {\n",
              "        vertical-align: top;\n",
              "    }\n",
              "\n",
              "    .dataframe thead th {\n",
              "        text-align: right;\n",
              "    }\n",
              "</style>\n",
              "<table border=\"1\" class=\"dataframe\">\n",
              "  <thead>\n",
              "    <tr style=\"text-align: right;\">\n",
              "      <th></th>\n",
              "      <th>estado</th>\n",
              "      <th>municipio</th>\n",
              "      <th>data</th>\n",
              "      <th>semanaEpi</th>\n",
              "      <th>popMunici</th>\n",
              "      <th>casosAcumulado</th>\n",
              "      <th>casosNovos</th>\n",
              "      <th>obitosAcumulado</th>\n",
              "      <th>obitosNovos</th>\n",
              "      <th>recNovos</th>\n",
              "      <th>emAcompNovos</th>\n",
              "    </tr>\n",
              "    <tr>\n",
              "      <th>regiao</th>\n",
              "      <th></th>\n",
              "      <th></th>\n",
              "      <th></th>\n",
              "      <th></th>\n",
              "      <th></th>\n",
              "      <th></th>\n",
              "      <th></th>\n",
              "      <th></th>\n",
              "      <th></th>\n",
              "      <th></th>\n",
              "      <th></th>\n",
              "    </tr>\n",
              "  </thead>\n",
              "  <tbody>\n",
              "    <tr>\n",
              "      <th>Brasil</th>\n",
              "      <td>NaN</td>\n",
              "      <td>-</td>\n",
              "      <td>25/02/2020</td>\n",
              "      <td>9</td>\n",
              "      <td>210147125.0</td>\n",
              "      <td>0</td>\n",
              "      <td>0</td>\n",
              "      <td>0</td>\n",
              "      <td>0</td>\n",
              "      <td>0.0</td>\n",
              "      <td>0.0</td>\n",
              "    </tr>\n",
              "    <tr>\n",
              "      <th>Brasil</th>\n",
              "      <td>NaN</td>\n",
              "      <td>-</td>\n",
              "      <td>26/02/2020</td>\n",
              "      <td>9</td>\n",
              "      <td>210147125.0</td>\n",
              "      <td>1</td>\n",
              "      <td>1</td>\n",
              "      <td>0</td>\n",
              "      <td>0</td>\n",
              "      <td>0.0</td>\n",
              "      <td>0.0</td>\n",
              "    </tr>\n",
              "    <tr>\n",
              "      <th>Brasil</th>\n",
              "      <td>NaN</td>\n",
              "      <td>-</td>\n",
              "      <td>27/02/2020</td>\n",
              "      <td>9</td>\n",
              "      <td>210147125.0</td>\n",
              "      <td>1</td>\n",
              "      <td>0</td>\n",
              "      <td>0</td>\n",
              "      <td>0</td>\n",
              "      <td>0.0</td>\n",
              "      <td>0.0</td>\n",
              "    </tr>\n",
              "    <tr>\n",
              "      <th>Brasil</th>\n",
              "      <td>NaN</td>\n",
              "      <td>-</td>\n",
              "      <td>28/02/2020</td>\n",
              "      <td>9</td>\n",
              "      <td>210147125.0</td>\n",
              "      <td>1</td>\n",
              "      <td>0</td>\n",
              "      <td>0</td>\n",
              "      <td>0</td>\n",
              "      <td>0.0</td>\n",
              "      <td>0.0</td>\n",
              "    </tr>\n",
              "    <tr>\n",
              "      <th>Brasil</th>\n",
              "      <td>NaN</td>\n",
              "      <td>-</td>\n",
              "      <td>29/02/2020</td>\n",
              "      <td>9</td>\n",
              "      <td>210147125.0</td>\n",
              "      <td>2</td>\n",
              "      <td>1</td>\n",
              "      <td>0</td>\n",
              "      <td>0</td>\n",
              "      <td>0.0</td>\n",
              "      <td>0.0</td>\n",
              "    </tr>\n",
              "    <tr>\n",
              "      <th>...</th>\n",
              "      <td>...</td>\n",
              "      <td>...</td>\n",
              "      <td>...</td>\n",
              "      <td>...</td>\n",
              "      <td>...</td>\n",
              "      <td>...</td>\n",
              "      <td>...</td>\n",
              "      <td>...</td>\n",
              "      <td>...</td>\n",
              "      <td>...</td>\n",
              "      <td>...</td>\n",
              "    </tr>\n",
              "    <tr>\n",
              "      <th>Sul</th>\n",
              "      <td>RS</td>\n",
              "      <td>Três de Maio</td>\n",
              "      <td>26/08/2020</td>\n",
              "      <td>35</td>\n",
              "      <td>23906.0</td>\n",
              "      <td>141</td>\n",
              "      <td>10</td>\n",
              "      <td>0</td>\n",
              "      <td>0</td>\n",
              "      <td>0.0</td>\n",
              "      <td>0.0</td>\n",
              "    </tr>\n",
              "    <tr>\n",
              "      <th>Sul</th>\n",
              "      <td>RS</td>\n",
              "      <td>Três de Maio</td>\n",
              "      <td>27/08/2020</td>\n",
              "      <td>35</td>\n",
              "      <td>23906.0</td>\n",
              "      <td>145</td>\n",
              "      <td>4</td>\n",
              "      <td>0</td>\n",
              "      <td>0</td>\n",
              "      <td>0.0</td>\n",
              "      <td>0.0</td>\n",
              "    </tr>\n",
              "    <tr>\n",
              "      <th>Sul</th>\n",
              "      <td>RS</td>\n",
              "      <td>Três de Maio</td>\n",
              "      <td>28/08/2020</td>\n",
              "      <td>35</td>\n",
              "      <td>23906.0</td>\n",
              "      <td>146</td>\n",
              "      <td>1</td>\n",
              "      <td>0</td>\n",
              "      <td>0</td>\n",
              "      <td>0.0</td>\n",
              "      <td>0.0</td>\n",
              "    </tr>\n",
              "    <tr>\n",
              "      <th>Sul</th>\n",
              "      <td>RS</td>\n",
              "      <td>Três de Maio</td>\n",
              "      <td>29/08/2020</td>\n",
              "      <td>35</td>\n",
              "      <td>23906.0</td>\n",
              "      <td>151</td>\n",
              "      <td>5</td>\n",
              "      <td>2</td>\n",
              "      <td>2</td>\n",
              "      <td>0.0</td>\n",
              "      <td>0.0</td>\n",
              "    </tr>\n",
              "    <tr>\n",
              "      <th>Sul</th>\n",
              "      <td>RS</td>\n",
              "      <td>Três de Maio</td>\n",
              "      <td>30/08/2020</td>\n",
              "      <td>36</td>\n",
              "      <td>23906.0</td>\n",
              "      <td>151</td>\n",
              "      <td>0</td>\n",
              "      <td>2</td>\n",
              "      <td>0</td>\n",
              "      <td>0.0</td>\n",
              "      <td>0.0</td>\n",
              "    </tr>\n",
              "  </tbody>\n",
              "</table>\n",
              "<p>1044885 rows × 11 columns</p>\n",
              "</div>"
            ],
            "text/plain": [
              "       estado     municipio        data  ...  obitosNovos  recNovos  emAcompNovos\n",
              "regiao                                   ...                                     \n",
              "Brasil    NaN             -  25/02/2020  ...            0       0.0           0.0\n",
              "Brasil    NaN             -  26/02/2020  ...            0       0.0           0.0\n",
              "Brasil    NaN             -  27/02/2020  ...            0       0.0           0.0\n",
              "Brasil    NaN             -  28/02/2020  ...            0       0.0           0.0\n",
              "Brasil    NaN             -  29/02/2020  ...            0       0.0           0.0\n",
              "...       ...           ...         ...  ...          ...       ...           ...\n",
              "Sul        RS  Três de Maio  26/08/2020  ...            0       0.0           0.0\n",
              "Sul        RS  Três de Maio  27/08/2020  ...            0       0.0           0.0\n",
              "Sul        RS  Três de Maio  28/08/2020  ...            0       0.0           0.0\n",
              "Sul        RS  Três de Maio  29/08/2020  ...            2       0.0           0.0\n",
              "Sul        RS  Três de Maio  30/08/2020  ...            0       0.0           0.0\n",
              "\n",
              "[1044885 rows x 11 columns]"
            ]
          },
          "metadata": {
            "tags": []
          },
          "execution_count": 135
        }
      ]
    },
    {
      "cell_type": "code",
      "metadata": {
        "id": "T6vlO7mJNXjT"
      },
      "source": [
        ""
      ],
      "execution_count": 135,
      "outputs": []
    },
    {
      "cell_type": "code",
      "metadata": {
        "id": "El_8bOU0NXjT"
      },
      "source": [
        "#Formatação da coluna \"municipios\""
      ],
      "execution_count": 136,
      "outputs": []
    },
    {
      "cell_type": "code",
      "metadata": {
        "id": "-8hWCIugNXjT"
      },
      "source": [
        "#Eliminação de acentos"
      ],
      "execution_count": 137,
      "outputs": []
    },
    {
      "cell_type": "code",
      "metadata": {
        "id": "hFhW_-W0NXjT"
      },
      "source": [
        "dfCovid['municipio'] = dfCovid['municipio'].str.normalize('NFKD').str.encode('ASCII', errors='ignore').str.decode('ASCII')"
      ],
      "execution_count": 138,
      "outputs": []
    },
    {
      "cell_type": "code",
      "metadata": {
        "id": "7ucVjVp0NXjT"
      },
      "source": [
        ""
      ],
      "execution_count": 138,
      "outputs": []
    },
    {
      "cell_type": "code",
      "metadata": {
        "id": "C7yIM82nNXjT"
      },
      "source": [
        "#Eliminação de caracteres especiais"
      ],
      "execution_count": 139,
      "outputs": []
    },
    {
      "cell_type": "code",
      "metadata": {
        "id": "hAuwtmvhNXjT"
      },
      "source": [
        "dfCovid['municipio'] = dfCovid['municipio'].str.replace('[-,_]',' ')"
      ],
      "execution_count": 140,
      "outputs": []
    },
    {
      "cell_type": "code",
      "metadata": {
        "id": "5-dkaGUNNXjT"
      },
      "source": [
        "dfCovid['municipio'] = dfCovid['municipio'].str.replace(\"'\",' ')"
      ],
      "execution_count": 141,
      "outputs": []
    },
    {
      "cell_type": "code",
      "metadata": {
        "id": "1VRTjNC6NXjT"
      },
      "source": [
        ""
      ],
      "execution_count": 141,
      "outputs": []
    },
    {
      "cell_type": "code",
      "metadata": {
        "id": "s21YbZQDNXjT"
      },
      "source": [
        "#Conversão para minúsculas"
      ],
      "execution_count": 142,
      "outputs": []
    },
    {
      "cell_type": "code",
      "metadata": {
        "id": "k-7G3DMyNXjT"
      },
      "source": [
        "dfCovid['municipio'] = dfCovid['municipio'].str.lower()"
      ],
      "execution_count": 143,
      "outputs": []
    },
    {
      "cell_type": "code",
      "metadata": {
        "colab": {
          "base_uri": "https://localhost:8080/",
          "height": 428
        },
        "id": "qLFBw1ZJNXjT",
        "outputId": "80b12a6d-80aa-414e-af26-43aede495d7d"
      },
      "source": [
        "dfCovid"
      ],
      "execution_count": 144,
      "outputs": [
        {
          "output_type": "execute_result",
          "data": {
            "text/html": [
              "<div>\n",
              "<style scoped>\n",
              "    .dataframe tbody tr th:only-of-type {\n",
              "        vertical-align: middle;\n",
              "    }\n",
              "\n",
              "    .dataframe tbody tr th {\n",
              "        vertical-align: top;\n",
              "    }\n",
              "\n",
              "    .dataframe thead th {\n",
              "        text-align: right;\n",
              "    }\n",
              "</style>\n",
              "<table border=\"1\" class=\"dataframe\">\n",
              "  <thead>\n",
              "    <tr style=\"text-align: right;\">\n",
              "      <th></th>\n",
              "      <th>estado</th>\n",
              "      <th>municipio</th>\n",
              "      <th>data</th>\n",
              "      <th>semanaEpi</th>\n",
              "      <th>popMunici</th>\n",
              "      <th>casosAcumulado</th>\n",
              "      <th>casosNovos</th>\n",
              "      <th>obitosAcumulado</th>\n",
              "      <th>obitosNovos</th>\n",
              "      <th>recNovos</th>\n",
              "      <th>emAcompNovos</th>\n",
              "    </tr>\n",
              "    <tr>\n",
              "      <th>regiao</th>\n",
              "      <th></th>\n",
              "      <th></th>\n",
              "      <th></th>\n",
              "      <th></th>\n",
              "      <th></th>\n",
              "      <th></th>\n",
              "      <th></th>\n",
              "      <th></th>\n",
              "      <th></th>\n",
              "      <th></th>\n",
              "      <th></th>\n",
              "    </tr>\n",
              "  </thead>\n",
              "  <tbody>\n",
              "    <tr>\n",
              "      <th>Brasil</th>\n",
              "      <td>NaN</td>\n",
              "      <td></td>\n",
              "      <td>25/02/2020</td>\n",
              "      <td>9</td>\n",
              "      <td>210147125.0</td>\n",
              "      <td>0</td>\n",
              "      <td>0</td>\n",
              "      <td>0</td>\n",
              "      <td>0</td>\n",
              "      <td>0.0</td>\n",
              "      <td>0.0</td>\n",
              "    </tr>\n",
              "    <tr>\n",
              "      <th>Brasil</th>\n",
              "      <td>NaN</td>\n",
              "      <td></td>\n",
              "      <td>26/02/2020</td>\n",
              "      <td>9</td>\n",
              "      <td>210147125.0</td>\n",
              "      <td>1</td>\n",
              "      <td>1</td>\n",
              "      <td>0</td>\n",
              "      <td>0</td>\n",
              "      <td>0.0</td>\n",
              "      <td>0.0</td>\n",
              "    </tr>\n",
              "    <tr>\n",
              "      <th>Brasil</th>\n",
              "      <td>NaN</td>\n",
              "      <td></td>\n",
              "      <td>27/02/2020</td>\n",
              "      <td>9</td>\n",
              "      <td>210147125.0</td>\n",
              "      <td>1</td>\n",
              "      <td>0</td>\n",
              "      <td>0</td>\n",
              "      <td>0</td>\n",
              "      <td>0.0</td>\n",
              "      <td>0.0</td>\n",
              "    </tr>\n",
              "    <tr>\n",
              "      <th>Brasil</th>\n",
              "      <td>NaN</td>\n",
              "      <td></td>\n",
              "      <td>28/02/2020</td>\n",
              "      <td>9</td>\n",
              "      <td>210147125.0</td>\n",
              "      <td>1</td>\n",
              "      <td>0</td>\n",
              "      <td>0</td>\n",
              "      <td>0</td>\n",
              "      <td>0.0</td>\n",
              "      <td>0.0</td>\n",
              "    </tr>\n",
              "    <tr>\n",
              "      <th>Brasil</th>\n",
              "      <td>NaN</td>\n",
              "      <td></td>\n",
              "      <td>29/02/2020</td>\n",
              "      <td>9</td>\n",
              "      <td>210147125.0</td>\n",
              "      <td>2</td>\n",
              "      <td>1</td>\n",
              "      <td>0</td>\n",
              "      <td>0</td>\n",
              "      <td>0.0</td>\n",
              "      <td>0.0</td>\n",
              "    </tr>\n",
              "    <tr>\n",
              "      <th>...</th>\n",
              "      <td>...</td>\n",
              "      <td>...</td>\n",
              "      <td>...</td>\n",
              "      <td>...</td>\n",
              "      <td>...</td>\n",
              "      <td>...</td>\n",
              "      <td>...</td>\n",
              "      <td>...</td>\n",
              "      <td>...</td>\n",
              "      <td>...</td>\n",
              "      <td>...</td>\n",
              "    </tr>\n",
              "    <tr>\n",
              "      <th>Sul</th>\n",
              "      <td>RS</td>\n",
              "      <td>tres de maio</td>\n",
              "      <td>26/08/2020</td>\n",
              "      <td>35</td>\n",
              "      <td>23906.0</td>\n",
              "      <td>141</td>\n",
              "      <td>10</td>\n",
              "      <td>0</td>\n",
              "      <td>0</td>\n",
              "      <td>0.0</td>\n",
              "      <td>0.0</td>\n",
              "    </tr>\n",
              "    <tr>\n",
              "      <th>Sul</th>\n",
              "      <td>RS</td>\n",
              "      <td>tres de maio</td>\n",
              "      <td>27/08/2020</td>\n",
              "      <td>35</td>\n",
              "      <td>23906.0</td>\n",
              "      <td>145</td>\n",
              "      <td>4</td>\n",
              "      <td>0</td>\n",
              "      <td>0</td>\n",
              "      <td>0.0</td>\n",
              "      <td>0.0</td>\n",
              "    </tr>\n",
              "    <tr>\n",
              "      <th>Sul</th>\n",
              "      <td>RS</td>\n",
              "      <td>tres de maio</td>\n",
              "      <td>28/08/2020</td>\n",
              "      <td>35</td>\n",
              "      <td>23906.0</td>\n",
              "      <td>146</td>\n",
              "      <td>1</td>\n",
              "      <td>0</td>\n",
              "      <td>0</td>\n",
              "      <td>0.0</td>\n",
              "      <td>0.0</td>\n",
              "    </tr>\n",
              "    <tr>\n",
              "      <th>Sul</th>\n",
              "      <td>RS</td>\n",
              "      <td>tres de maio</td>\n",
              "      <td>29/08/2020</td>\n",
              "      <td>35</td>\n",
              "      <td>23906.0</td>\n",
              "      <td>151</td>\n",
              "      <td>5</td>\n",
              "      <td>2</td>\n",
              "      <td>2</td>\n",
              "      <td>0.0</td>\n",
              "      <td>0.0</td>\n",
              "    </tr>\n",
              "    <tr>\n",
              "      <th>Sul</th>\n",
              "      <td>RS</td>\n",
              "      <td>tres de maio</td>\n",
              "      <td>30/08/2020</td>\n",
              "      <td>36</td>\n",
              "      <td>23906.0</td>\n",
              "      <td>151</td>\n",
              "      <td>0</td>\n",
              "      <td>2</td>\n",
              "      <td>0</td>\n",
              "      <td>0.0</td>\n",
              "      <td>0.0</td>\n",
              "    </tr>\n",
              "  </tbody>\n",
              "</table>\n",
              "<p>1044885 rows × 11 columns</p>\n",
              "</div>"
            ],
            "text/plain": [
              "       estado     municipio        data  ...  obitosNovos  recNovos  emAcompNovos\n",
              "regiao                                   ...                                     \n",
              "Brasil    NaN                25/02/2020  ...            0       0.0           0.0\n",
              "Brasil    NaN                26/02/2020  ...            0       0.0           0.0\n",
              "Brasil    NaN                27/02/2020  ...            0       0.0           0.0\n",
              "Brasil    NaN                28/02/2020  ...            0       0.0           0.0\n",
              "Brasil    NaN                29/02/2020  ...            0       0.0           0.0\n",
              "...       ...           ...         ...  ...          ...       ...           ...\n",
              "Sul        RS  tres de maio  26/08/2020  ...            0       0.0           0.0\n",
              "Sul        RS  tres de maio  27/08/2020  ...            0       0.0           0.0\n",
              "Sul        RS  tres de maio  28/08/2020  ...            0       0.0           0.0\n",
              "Sul        RS  tres de maio  29/08/2020  ...            2       0.0           0.0\n",
              "Sul        RS  tres de maio  30/08/2020  ...            0       0.0           0.0\n",
              "\n",
              "[1044885 rows x 11 columns]"
            ]
          },
          "metadata": {
            "tags": []
          },
          "execution_count": 144
        }
      ]
    },
    {
      "cell_type": "code",
      "metadata": {
        "id": "clSBdppKNXjT"
      },
      "source": [
        ""
      ],
      "execution_count": 144,
      "outputs": []
    },
    {
      "cell_type": "code",
      "metadata": {
        "id": "yWCY87FvNXjT"
      },
      "source": [
        "#Dataset com todos os municipios por estado e mesorregião "
      ],
      "execution_count": 145,
      "outputs": []
    },
    {
      "cell_type": "code",
      "metadata": {
        "id": "irDwMXKFNXjT"
      },
      "source": [
        "dfMesoPib = pd.read_csv('/content/drive/MyDrive/Colab Notebooks/ProjetoFinal/pibemesor.csv', index_col=[0], low_memory=False, encoding='latin1', sep=';')"
      ],
      "execution_count": 146,
      "outputs": []
    },
    {
      "cell_type": "code",
      "metadata": {
        "colab": {
          "base_uri": "https://localhost:8080/",
          "height": 428
        },
        "id": "ONN0-9usNXjT",
        "outputId": "7336f85a-13b6-41b6-b51d-97ac9d27a4fd"
      },
      "source": [
        "dfMesoPib"
      ],
      "execution_count": 147,
      "outputs": [
        {
          "output_type": "execute_result",
          "data": {
            "text/html": [
              "<div>\n",
              "<style scoped>\n",
              "    .dataframe tbody tr th:only-of-type {\n",
              "        vertical-align: middle;\n",
              "    }\n",
              "\n",
              "    .dataframe tbody tr th {\n",
              "        vertical-align: top;\n",
              "    }\n",
              "\n",
              "    .dataframe thead th {\n",
              "        text-align: right;\n",
              "    }\n",
              "</style>\n",
              "<table border=\"1\" class=\"dataframe\">\n",
              "  <thead>\n",
              "    <tr style=\"text-align: right;\">\n",
              "      <th></th>\n",
              "      <th>regiaopais</th>\n",
              "      <th>estado</th>\n",
              "      <th>municipio</th>\n",
              "      <th>mesorregiao</th>\n",
              "      <th>pib</th>\n",
              "    </tr>\n",
              "    <tr>\n",
              "      <th>ord</th>\n",
              "      <th></th>\n",
              "      <th></th>\n",
              "      <th></th>\n",
              "      <th></th>\n",
              "      <th></th>\n",
              "    </tr>\n",
              "  </thead>\n",
              "  <tbody>\n",
              "    <tr>\n",
              "      <th>1</th>\n",
              "      <td>Norte</td>\n",
              "      <td>RO</td>\n",
              "      <td>Alta Floresta D'Oeste</td>\n",
              "      <td>Leste Rondoniense</td>\n",
              "      <td>19611,75</td>\n",
              "    </tr>\n",
              "    <tr>\n",
              "      <th>2</th>\n",
              "      <td>Norte</td>\n",
              "      <td>RO</td>\n",
              "      <td>Ariquemes</td>\n",
              "      <td>Leste Rondoniense</td>\n",
              "      <td>21389,67</td>\n",
              "    </tr>\n",
              "    <tr>\n",
              "      <th>3</th>\n",
              "      <td>Norte</td>\n",
              "      <td>RO</td>\n",
              "      <td>Cabixi</td>\n",
              "      <td>Leste Rondoniense</td>\n",
              "      <td>22315,8</td>\n",
              "    </tr>\n",
              "    <tr>\n",
              "      <th>4</th>\n",
              "      <td>Norte</td>\n",
              "      <td>RO</td>\n",
              "      <td>Cacoal</td>\n",
              "      <td>Leste Rondoniense</td>\n",
              "      <td>24037,91</td>\n",
              "    </tr>\n",
              "    <tr>\n",
              "      <th>5</th>\n",
              "      <td>Norte</td>\n",
              "      <td>RO</td>\n",
              "      <td>Cerejeiras</td>\n",
              "      <td>Leste Rondoniense</td>\n",
              "      <td>25009,71</td>\n",
              "    </tr>\n",
              "    <tr>\n",
              "      <th>...</th>\n",
              "      <td>...</td>\n",
              "      <td>...</td>\n",
              "      <td>...</td>\n",
              "      <td>...</td>\n",
              "      <td>...</td>\n",
              "    </tr>\n",
              "    <tr>\n",
              "      <th>5566</th>\n",
              "      <td>Centro-oeste</td>\n",
              "      <td>GO</td>\n",
              "      <td>Vianópolis</td>\n",
              "      <td>Sul Goiano</td>\n",
              "      <td>28942,36</td>\n",
              "    </tr>\n",
              "    <tr>\n",
              "      <th>5567</th>\n",
              "      <td>Centro-oeste</td>\n",
              "      <td>GO</td>\n",
              "      <td>Vicentinópolis</td>\n",
              "      <td>Sul Goiano</td>\n",
              "      <td>41772,71</td>\n",
              "    </tr>\n",
              "    <tr>\n",
              "      <th>5568</th>\n",
              "      <td>Centro-oeste</td>\n",
              "      <td>GO</td>\n",
              "      <td>Vila Boa</td>\n",
              "      <td>Leste Goiano</td>\n",
              "      <td>23992,38</td>\n",
              "    </tr>\n",
              "    <tr>\n",
              "      <th>5569</th>\n",
              "      <td>Centro-oeste</td>\n",
              "      <td>GO</td>\n",
              "      <td>Vila Propício</td>\n",
              "      <td>Leste Goiano</td>\n",
              "      <td>32016,61</td>\n",
              "    </tr>\n",
              "    <tr>\n",
              "      <th>5570</th>\n",
              "      <td>Centro-oeste</td>\n",
              "      <td>DF</td>\n",
              "      <td>Brasília</td>\n",
              "      <td>Distrito Federal</td>\n",
              "      <td>80502,47</td>\n",
              "    </tr>\n",
              "  </tbody>\n",
              "</table>\n",
              "<p>5570 rows × 5 columns</p>\n",
              "</div>"
            ],
            "text/plain": [
              "        regiaopais estado              municipio        mesorregiao       pib\n",
              "ord                                                                          \n",
              "1            Norte     RO  Alta Floresta D'Oeste  Leste Rondoniense  19611,75\n",
              "2            Norte     RO              Ariquemes  Leste Rondoniense  21389,67\n",
              "3            Norte     RO                 Cabixi  Leste Rondoniense   22315,8\n",
              "4            Norte     RO                 Cacoal  Leste Rondoniense  24037,91\n",
              "5            Norte     RO             Cerejeiras  Leste Rondoniense  25009,71\n",
              "...            ...    ...                    ...                ...       ...\n",
              "5566  Centro-oeste     GO             Vianópolis         Sul Goiano  28942,36\n",
              "5567  Centro-oeste     GO         Vicentinópolis         Sul Goiano  41772,71\n",
              "5568  Centro-oeste     GO               Vila Boa       Leste Goiano  23992,38\n",
              "5569  Centro-oeste     GO          Vila Propício       Leste Goiano  32016,61\n",
              "5570  Centro-oeste     DF               Brasília   Distrito Federal  80502,47\n",
              "\n",
              "[5570 rows x 5 columns]"
            ]
          },
          "metadata": {
            "tags": []
          },
          "execution_count": 147
        }
      ]
    },
    {
      "cell_type": "code",
      "metadata": {
        "id": "5_ghAhLWNXjT"
      },
      "source": [
        ""
      ],
      "execution_count": 147,
      "outputs": []
    },
    {
      "cell_type": "code",
      "metadata": {
        "id": "YBqGmt4ONXjT"
      },
      "source": [
        "#Formatação da coluna \"municipio\""
      ],
      "execution_count": 148,
      "outputs": []
    },
    {
      "cell_type": "code",
      "metadata": {
        "id": "r9H0r68FNXjT"
      },
      "source": [
        "dfMesoPib['municipio'] = dfMesoPib['municipio'].str.normalize('NFKD').str.encode('ASCII', errors='ignore').str.decode('ASCII')"
      ],
      "execution_count": 149,
      "outputs": []
    },
    {
      "cell_type": "code",
      "metadata": {
        "id": "Y9-3az0JNXjU"
      },
      "source": [
        "dfMesoPib['municipio'] = dfMesoPib['municipio'].str.replace('[-,_]',' ')"
      ],
      "execution_count": 150,
      "outputs": []
    },
    {
      "cell_type": "code",
      "metadata": {
        "id": "8ppIwLU2NXjU"
      },
      "source": [
        "dfMesoPib['municipio'] = dfMesoPib['municipio'].str.replace(\"'\",' ')"
      ],
      "execution_count": 151,
      "outputs": []
    },
    {
      "cell_type": "code",
      "metadata": {
        "id": "mRC95oMrNXjU"
      },
      "source": [
        "dfMesoPib['municipio'] = dfMesoPib['municipio'].str.lower()"
      ],
      "execution_count": 152,
      "outputs": []
    },
    {
      "cell_type": "code",
      "metadata": {
        "colab": {
          "base_uri": "https://localhost:8080/",
          "height": 428
        },
        "id": "5nDUjf12NXjU",
        "outputId": "c1640d91-71fc-4420-9ca4-fdefec25cfbf"
      },
      "source": [
        "dfMesoPib"
      ],
      "execution_count": 153,
      "outputs": [
        {
          "output_type": "execute_result",
          "data": {
            "text/html": [
              "<div>\n",
              "<style scoped>\n",
              "    .dataframe tbody tr th:only-of-type {\n",
              "        vertical-align: middle;\n",
              "    }\n",
              "\n",
              "    .dataframe tbody tr th {\n",
              "        vertical-align: top;\n",
              "    }\n",
              "\n",
              "    .dataframe thead th {\n",
              "        text-align: right;\n",
              "    }\n",
              "</style>\n",
              "<table border=\"1\" class=\"dataframe\">\n",
              "  <thead>\n",
              "    <tr style=\"text-align: right;\">\n",
              "      <th></th>\n",
              "      <th>regiaopais</th>\n",
              "      <th>estado</th>\n",
              "      <th>municipio</th>\n",
              "      <th>mesorregiao</th>\n",
              "      <th>pib</th>\n",
              "    </tr>\n",
              "    <tr>\n",
              "      <th>ord</th>\n",
              "      <th></th>\n",
              "      <th></th>\n",
              "      <th></th>\n",
              "      <th></th>\n",
              "      <th></th>\n",
              "    </tr>\n",
              "  </thead>\n",
              "  <tbody>\n",
              "    <tr>\n",
              "      <th>1</th>\n",
              "      <td>Norte</td>\n",
              "      <td>RO</td>\n",
              "      <td>alta floresta d oeste</td>\n",
              "      <td>Leste Rondoniense</td>\n",
              "      <td>19611,75</td>\n",
              "    </tr>\n",
              "    <tr>\n",
              "      <th>2</th>\n",
              "      <td>Norte</td>\n",
              "      <td>RO</td>\n",
              "      <td>ariquemes</td>\n",
              "      <td>Leste Rondoniense</td>\n",
              "      <td>21389,67</td>\n",
              "    </tr>\n",
              "    <tr>\n",
              "      <th>3</th>\n",
              "      <td>Norte</td>\n",
              "      <td>RO</td>\n",
              "      <td>cabixi</td>\n",
              "      <td>Leste Rondoniense</td>\n",
              "      <td>22315,8</td>\n",
              "    </tr>\n",
              "    <tr>\n",
              "      <th>4</th>\n",
              "      <td>Norte</td>\n",
              "      <td>RO</td>\n",
              "      <td>cacoal</td>\n",
              "      <td>Leste Rondoniense</td>\n",
              "      <td>24037,91</td>\n",
              "    </tr>\n",
              "    <tr>\n",
              "      <th>5</th>\n",
              "      <td>Norte</td>\n",
              "      <td>RO</td>\n",
              "      <td>cerejeiras</td>\n",
              "      <td>Leste Rondoniense</td>\n",
              "      <td>25009,71</td>\n",
              "    </tr>\n",
              "    <tr>\n",
              "      <th>...</th>\n",
              "      <td>...</td>\n",
              "      <td>...</td>\n",
              "      <td>...</td>\n",
              "      <td>...</td>\n",
              "      <td>...</td>\n",
              "    </tr>\n",
              "    <tr>\n",
              "      <th>5566</th>\n",
              "      <td>Centro-oeste</td>\n",
              "      <td>GO</td>\n",
              "      <td>vianopolis</td>\n",
              "      <td>Sul Goiano</td>\n",
              "      <td>28942,36</td>\n",
              "    </tr>\n",
              "    <tr>\n",
              "      <th>5567</th>\n",
              "      <td>Centro-oeste</td>\n",
              "      <td>GO</td>\n",
              "      <td>vicentinopolis</td>\n",
              "      <td>Sul Goiano</td>\n",
              "      <td>41772,71</td>\n",
              "    </tr>\n",
              "    <tr>\n",
              "      <th>5568</th>\n",
              "      <td>Centro-oeste</td>\n",
              "      <td>GO</td>\n",
              "      <td>vila boa</td>\n",
              "      <td>Leste Goiano</td>\n",
              "      <td>23992,38</td>\n",
              "    </tr>\n",
              "    <tr>\n",
              "      <th>5569</th>\n",
              "      <td>Centro-oeste</td>\n",
              "      <td>GO</td>\n",
              "      <td>vila propicio</td>\n",
              "      <td>Leste Goiano</td>\n",
              "      <td>32016,61</td>\n",
              "    </tr>\n",
              "    <tr>\n",
              "      <th>5570</th>\n",
              "      <td>Centro-oeste</td>\n",
              "      <td>DF</td>\n",
              "      <td>brasilia</td>\n",
              "      <td>Distrito Federal</td>\n",
              "      <td>80502,47</td>\n",
              "    </tr>\n",
              "  </tbody>\n",
              "</table>\n",
              "<p>5570 rows × 5 columns</p>\n",
              "</div>"
            ],
            "text/plain": [
              "        regiaopais estado              municipio        mesorregiao       pib\n",
              "ord                                                                          \n",
              "1            Norte     RO  alta floresta d oeste  Leste Rondoniense  19611,75\n",
              "2            Norte     RO              ariquemes  Leste Rondoniense  21389,67\n",
              "3            Norte     RO                 cabixi  Leste Rondoniense   22315,8\n",
              "4            Norte     RO                 cacoal  Leste Rondoniense  24037,91\n",
              "5            Norte     RO             cerejeiras  Leste Rondoniense  25009,71\n",
              "...            ...    ...                    ...                ...       ...\n",
              "5566  Centro-oeste     GO             vianopolis         Sul Goiano  28942,36\n",
              "5567  Centro-oeste     GO         vicentinopolis         Sul Goiano  41772,71\n",
              "5568  Centro-oeste     GO               vila boa       Leste Goiano  23992,38\n",
              "5569  Centro-oeste     GO          vila propicio       Leste Goiano  32016,61\n",
              "5570  Centro-oeste     DF               brasilia   Distrito Federal  80502,47\n",
              "\n",
              "[5570 rows x 5 columns]"
            ]
          },
          "metadata": {
            "tags": []
          },
          "execution_count": 153
        }
      ]
    },
    {
      "cell_type": "code",
      "metadata": {
        "id": "iokmNrcmNXjU"
      },
      "source": [
        ""
      ],
      "execution_count": 153,
      "outputs": []
    },
    {
      "cell_type": "code",
      "metadata": {
        "id": "a2sywDo9NXjU"
      },
      "source": [
        ""
      ],
      "execution_count": 153,
      "outputs": []
    },
    {
      "cell_type": "code",
      "metadata": {
        "id": "Q21jwHpFNXjU"
      },
      "source": [
        "#Junção dos datasets para preenchimento dos estados faltantes"
      ],
      "execution_count": 154,
      "outputs": []
    },
    {
      "cell_type": "code",
      "metadata": {
        "id": "GQVBbCBBNXjU"
      },
      "source": [
        "dfCovid = pd.merge(dfCovid, dfMesoPib, on='municipio', how='right' )"
      ],
      "execution_count": 155,
      "outputs": []
    },
    {
      "cell_type": "code",
      "metadata": {
        "colab": {
          "base_uri": "https://localhost:8080/",
          "height": 399
        },
        "id": "x5zKur2tNXjU",
        "outputId": "4d3d998a-9cc3-4929-8ebf-4c15cbffeb76"
      },
      "source": [
        "dfCovid"
      ],
      "execution_count": 156,
      "outputs": [
        {
          "output_type": "execute_result",
          "data": {
            "text/html": [
              "<div>\n",
              "<style scoped>\n",
              "    .dataframe tbody tr th:only-of-type {\n",
              "        vertical-align: middle;\n",
              "    }\n",
              "\n",
              "    .dataframe tbody tr th {\n",
              "        vertical-align: top;\n",
              "    }\n",
              "\n",
              "    .dataframe thead th {\n",
              "        text-align: right;\n",
              "    }\n",
              "</style>\n",
              "<table border=\"1\" class=\"dataframe\">\n",
              "  <thead>\n",
              "    <tr style=\"text-align: right;\">\n",
              "      <th></th>\n",
              "      <th>estado_x</th>\n",
              "      <th>municipio</th>\n",
              "      <th>data</th>\n",
              "      <th>semanaEpi</th>\n",
              "      <th>popMunici</th>\n",
              "      <th>casosAcumulado</th>\n",
              "      <th>casosNovos</th>\n",
              "      <th>obitosAcumulado</th>\n",
              "      <th>obitosNovos</th>\n",
              "      <th>recNovos</th>\n",
              "      <th>emAcompNovos</th>\n",
              "      <th>regiaopais</th>\n",
              "      <th>estado_y</th>\n",
              "      <th>mesorregiao</th>\n",
              "      <th>pib</th>\n",
              "    </tr>\n",
              "  </thead>\n",
              "  <tbody>\n",
              "    <tr>\n",
              "      <th>0</th>\n",
              "      <td>RO</td>\n",
              "      <td>alta floresta d oeste</td>\n",
              "      <td>27/03/2020</td>\n",
              "      <td>13.0</td>\n",
              "      <td>22945.0</td>\n",
              "      <td>0.0</td>\n",
              "      <td>0.0</td>\n",
              "      <td>0.0</td>\n",
              "      <td>0.0</td>\n",
              "      <td>0.0</td>\n",
              "      <td>0.0</td>\n",
              "      <td>Norte</td>\n",
              "      <td>RO</td>\n",
              "      <td>Leste Rondoniense</td>\n",
              "      <td>19611,75</td>\n",
              "    </tr>\n",
              "    <tr>\n",
              "      <th>1</th>\n",
              "      <td>RO</td>\n",
              "      <td>alta floresta d oeste</td>\n",
              "      <td>28/03/2020</td>\n",
              "      <td>13.0</td>\n",
              "      <td>22945.0</td>\n",
              "      <td>0.0</td>\n",
              "      <td>0.0</td>\n",
              "      <td>0.0</td>\n",
              "      <td>0.0</td>\n",
              "      <td>0.0</td>\n",
              "      <td>0.0</td>\n",
              "      <td>Norte</td>\n",
              "      <td>RO</td>\n",
              "      <td>Leste Rondoniense</td>\n",
              "      <td>19611,75</td>\n",
              "    </tr>\n",
              "    <tr>\n",
              "      <th>2</th>\n",
              "      <td>RO</td>\n",
              "      <td>alta floresta d oeste</td>\n",
              "      <td>29/03/2020</td>\n",
              "      <td>14.0</td>\n",
              "      <td>22945.0</td>\n",
              "      <td>0.0</td>\n",
              "      <td>0.0</td>\n",
              "      <td>0.0</td>\n",
              "      <td>0.0</td>\n",
              "      <td>0.0</td>\n",
              "      <td>0.0</td>\n",
              "      <td>Norte</td>\n",
              "      <td>RO</td>\n",
              "      <td>Leste Rondoniense</td>\n",
              "      <td>19611,75</td>\n",
              "    </tr>\n",
              "    <tr>\n",
              "      <th>3</th>\n",
              "      <td>RO</td>\n",
              "      <td>alta floresta d oeste</td>\n",
              "      <td>30/03/2020</td>\n",
              "      <td>14.0</td>\n",
              "      <td>22945.0</td>\n",
              "      <td>0.0</td>\n",
              "      <td>0.0</td>\n",
              "      <td>0.0</td>\n",
              "      <td>0.0</td>\n",
              "      <td>0.0</td>\n",
              "      <td>0.0</td>\n",
              "      <td>Norte</td>\n",
              "      <td>RO</td>\n",
              "      <td>Leste Rondoniense</td>\n",
              "      <td>19611,75</td>\n",
              "    </tr>\n",
              "    <tr>\n",
              "      <th>4</th>\n",
              "      <td>RO</td>\n",
              "      <td>alta floresta d oeste</td>\n",
              "      <td>31/03/2020</td>\n",
              "      <td>14.0</td>\n",
              "      <td>22945.0</td>\n",
              "      <td>0.0</td>\n",
              "      <td>0.0</td>\n",
              "      <td>0.0</td>\n",
              "      <td>0.0</td>\n",
              "      <td>0.0</td>\n",
              "      <td>0.0</td>\n",
              "      <td>Norte</td>\n",
              "      <td>RO</td>\n",
              "      <td>Leste Rondoniense</td>\n",
              "      <td>19611,75</td>\n",
              "    </tr>\n",
              "    <tr>\n",
              "      <th>...</th>\n",
              "      <td>...</td>\n",
              "      <td>...</td>\n",
              "      <td>...</td>\n",
              "      <td>...</td>\n",
              "      <td>...</td>\n",
              "      <td>...</td>\n",
              "      <td>...</td>\n",
              "      <td>...</td>\n",
              "      <td>...</td>\n",
              "      <td>...</td>\n",
              "      <td>...</td>\n",
              "      <td>...</td>\n",
              "      <td>...</td>\n",
              "      <td>...</td>\n",
              "      <td>...</td>\n",
              "    </tr>\n",
              "    <tr>\n",
              "      <th>1164408</th>\n",
              "      <td>NaN</td>\n",
              "      <td>vianopolis</td>\n",
              "      <td>NaN</td>\n",
              "      <td>NaN</td>\n",
              "      <td>NaN</td>\n",
              "      <td>NaN</td>\n",
              "      <td>NaN</td>\n",
              "      <td>NaN</td>\n",
              "      <td>NaN</td>\n",
              "      <td>NaN</td>\n",
              "      <td>NaN</td>\n",
              "      <td>Centro-oeste</td>\n",
              "      <td>GO</td>\n",
              "      <td>Sul Goiano</td>\n",
              "      <td>28942,36</td>\n",
              "    </tr>\n",
              "    <tr>\n",
              "      <th>1164409</th>\n",
              "      <td>NaN</td>\n",
              "      <td>vicentinopolis</td>\n",
              "      <td>NaN</td>\n",
              "      <td>NaN</td>\n",
              "      <td>NaN</td>\n",
              "      <td>NaN</td>\n",
              "      <td>NaN</td>\n",
              "      <td>NaN</td>\n",
              "      <td>NaN</td>\n",
              "      <td>NaN</td>\n",
              "      <td>NaN</td>\n",
              "      <td>Centro-oeste</td>\n",
              "      <td>GO</td>\n",
              "      <td>Sul Goiano</td>\n",
              "      <td>41772,71</td>\n",
              "    </tr>\n",
              "    <tr>\n",
              "      <th>1164410</th>\n",
              "      <td>NaN</td>\n",
              "      <td>vila boa</td>\n",
              "      <td>NaN</td>\n",
              "      <td>NaN</td>\n",
              "      <td>NaN</td>\n",
              "      <td>NaN</td>\n",
              "      <td>NaN</td>\n",
              "      <td>NaN</td>\n",
              "      <td>NaN</td>\n",
              "      <td>NaN</td>\n",
              "      <td>NaN</td>\n",
              "      <td>Centro-oeste</td>\n",
              "      <td>GO</td>\n",
              "      <td>Leste Goiano</td>\n",
              "      <td>23992,38</td>\n",
              "    </tr>\n",
              "    <tr>\n",
              "      <th>1164411</th>\n",
              "      <td>NaN</td>\n",
              "      <td>vila propicio</td>\n",
              "      <td>NaN</td>\n",
              "      <td>NaN</td>\n",
              "      <td>NaN</td>\n",
              "      <td>NaN</td>\n",
              "      <td>NaN</td>\n",
              "      <td>NaN</td>\n",
              "      <td>NaN</td>\n",
              "      <td>NaN</td>\n",
              "      <td>NaN</td>\n",
              "      <td>Centro-oeste</td>\n",
              "      <td>GO</td>\n",
              "      <td>Leste Goiano</td>\n",
              "      <td>32016,61</td>\n",
              "    </tr>\n",
              "    <tr>\n",
              "      <th>1164412</th>\n",
              "      <td>NaN</td>\n",
              "      <td>brasilia</td>\n",
              "      <td>NaN</td>\n",
              "      <td>NaN</td>\n",
              "      <td>NaN</td>\n",
              "      <td>NaN</td>\n",
              "      <td>NaN</td>\n",
              "      <td>NaN</td>\n",
              "      <td>NaN</td>\n",
              "      <td>NaN</td>\n",
              "      <td>NaN</td>\n",
              "      <td>Centro-oeste</td>\n",
              "      <td>DF</td>\n",
              "      <td>Distrito Federal</td>\n",
              "      <td>80502,47</td>\n",
              "    </tr>\n",
              "  </tbody>\n",
              "</table>\n",
              "<p>1164413 rows × 15 columns</p>\n",
              "</div>"
            ],
            "text/plain": [
              "        estado_x              municipio  ...        mesorregiao       pib\n",
              "0             RO  alta floresta d oeste  ...  Leste Rondoniense  19611,75\n",
              "1             RO  alta floresta d oeste  ...  Leste Rondoniense  19611,75\n",
              "2             RO  alta floresta d oeste  ...  Leste Rondoniense  19611,75\n",
              "3             RO  alta floresta d oeste  ...  Leste Rondoniense  19611,75\n",
              "4             RO  alta floresta d oeste  ...  Leste Rondoniense  19611,75\n",
              "...          ...                    ...  ...                ...       ...\n",
              "1164408      NaN             vianopolis  ...         Sul Goiano  28942,36\n",
              "1164409      NaN         vicentinopolis  ...         Sul Goiano  41772,71\n",
              "1164410      NaN               vila boa  ...       Leste Goiano  23992,38\n",
              "1164411      NaN          vila propicio  ...       Leste Goiano  32016,61\n",
              "1164412      NaN               brasilia  ...   Distrito Federal  80502,47\n",
              "\n",
              "[1164413 rows x 15 columns]"
            ]
          },
          "metadata": {
            "tags": []
          },
          "execution_count": 156
        }
      ]
    },
    {
      "cell_type": "code",
      "metadata": {
        "id": "qrMu1NwjNXjU"
      },
      "source": [
        ""
      ],
      "execution_count": 156,
      "outputs": []
    },
    {
      "cell_type": "code",
      "metadata": {
        "colab": {
          "base_uri": "https://localhost:8080/"
        },
        "id": "vwf5e4IsNXjU",
        "outputId": "66b6cc3b-6bff-487c-ca7c-4ded957a4245"
      },
      "source": [
        "dfCovid.isna().sum()"
      ],
      "execution_count": 157,
      "outputs": [
        {
          "output_type": "execute_result",
          "data": {
            "text/plain": [
              "estado_x           471\n",
              "municipio            0\n",
              "data               471\n",
              "semanaEpi          471\n",
              "popMunici          471\n",
              "casosAcumulado     471\n",
              "casosNovos         471\n",
              "obitosAcumulado    471\n",
              "obitosNovos        471\n",
              "recNovos           471\n",
              "emAcompNovos       471\n",
              "regiaopais           0\n",
              "estado_y             0\n",
              "mesorregiao          0\n",
              "pib                  0\n",
              "dtype: int64"
            ]
          },
          "metadata": {
            "tags": []
          },
          "execution_count": 157
        }
      ]
    },
    {
      "cell_type": "code",
      "metadata": {
        "id": "V_E2cjsTNXjU"
      },
      "source": [
        ""
      ],
      "execution_count": 157,
      "outputs": []
    },
    {
      "cell_type": "code",
      "metadata": {
        "id": "f60NvRbaNXjU"
      },
      "source": [
        "dfCovid.drop(['estado_x'], axis=1, inplace=True)"
      ],
      "execution_count": 158,
      "outputs": []
    },
    {
      "cell_type": "code",
      "metadata": {
        "id": "CJxtXTCtNXjU"
      },
      "source": [
        "dfCovid.rename(columns={'estado_y':'estado'}, inplace=True)"
      ],
      "execution_count": 159,
      "outputs": []
    },
    {
      "cell_type": "code",
      "metadata": {
        "id": "andgY5RbNXjU"
      },
      "source": [
        ""
      ],
      "execution_count": 159,
      "outputs": []
    },
    {
      "cell_type": "code",
      "metadata": {
        "id": "6WiSPSacNXjU"
      },
      "source": [
        ""
      ],
      "execution_count": 159,
      "outputs": []
    },
    {
      "cell_type": "code",
      "metadata": {
        "id": "oVp1VtCyNXjU"
      },
      "source": [
        "#Exclusão dos dados faltantes"
      ],
      "execution_count": 160,
      "outputs": []
    },
    {
      "cell_type": "code",
      "metadata": {
        "id": "bxahwyzfNXjU"
      },
      "source": [
        "dfCovid.dropna(axis=0, inplace=True)"
      ],
      "execution_count": 161,
      "outputs": []
    },
    {
      "cell_type": "code",
      "metadata": {
        "colab": {
          "base_uri": "https://localhost:8080/"
        },
        "id": "joGEtfR2NXjU",
        "outputId": "4189d377-f7c9-44e6-9456-1ed250cdbbe8"
      },
      "source": [
        "dfCovid.isna().sum()"
      ],
      "execution_count": 162,
      "outputs": [
        {
          "output_type": "execute_result",
          "data": {
            "text/plain": [
              "municipio          0\n",
              "data               0\n",
              "semanaEpi          0\n",
              "popMunici          0\n",
              "casosAcumulado     0\n",
              "casosNovos         0\n",
              "obitosAcumulado    0\n",
              "obitosNovos        0\n",
              "recNovos           0\n",
              "emAcompNovos       0\n",
              "regiaopais         0\n",
              "estado             0\n",
              "mesorregiao        0\n",
              "pib                0\n",
              "dtype: int64"
            ]
          },
          "metadata": {
            "tags": []
          },
          "execution_count": 162
        }
      ]
    },
    {
      "cell_type": "code",
      "metadata": {
        "id": "aj8WUKtONXjU"
      },
      "source": [
        ""
      ],
      "execution_count": 162,
      "outputs": []
    },
    {
      "cell_type": "code",
      "metadata": {
        "colab": {
          "base_uri": "https://localhost:8080/",
          "height": 399
        },
        "id": "pj8BpnK1NXjU",
        "outputId": "57437981-facf-4ac5-9904-61ecfae624f6"
      },
      "source": [
        "dfCovid"
      ],
      "execution_count": 163,
      "outputs": [
        {
          "output_type": "execute_result",
          "data": {
            "text/html": [
              "<div>\n",
              "<style scoped>\n",
              "    .dataframe tbody tr th:only-of-type {\n",
              "        vertical-align: middle;\n",
              "    }\n",
              "\n",
              "    .dataframe tbody tr th {\n",
              "        vertical-align: top;\n",
              "    }\n",
              "\n",
              "    .dataframe thead th {\n",
              "        text-align: right;\n",
              "    }\n",
              "</style>\n",
              "<table border=\"1\" class=\"dataframe\">\n",
              "  <thead>\n",
              "    <tr style=\"text-align: right;\">\n",
              "      <th></th>\n",
              "      <th>municipio</th>\n",
              "      <th>data</th>\n",
              "      <th>semanaEpi</th>\n",
              "      <th>popMunici</th>\n",
              "      <th>casosAcumulado</th>\n",
              "      <th>casosNovos</th>\n",
              "      <th>obitosAcumulado</th>\n",
              "      <th>obitosNovos</th>\n",
              "      <th>recNovos</th>\n",
              "      <th>emAcompNovos</th>\n",
              "      <th>regiaopais</th>\n",
              "      <th>estado</th>\n",
              "      <th>mesorregiao</th>\n",
              "      <th>pib</th>\n",
              "    </tr>\n",
              "  </thead>\n",
              "  <tbody>\n",
              "    <tr>\n",
              "      <th>0</th>\n",
              "      <td>alta floresta d oeste</td>\n",
              "      <td>27/03/2020</td>\n",
              "      <td>13.0</td>\n",
              "      <td>22945.0</td>\n",
              "      <td>0.0</td>\n",
              "      <td>0.0</td>\n",
              "      <td>0.0</td>\n",
              "      <td>0.0</td>\n",
              "      <td>0.0</td>\n",
              "      <td>0.0</td>\n",
              "      <td>Norte</td>\n",
              "      <td>RO</td>\n",
              "      <td>Leste Rondoniense</td>\n",
              "      <td>19611,75</td>\n",
              "    </tr>\n",
              "    <tr>\n",
              "      <th>1</th>\n",
              "      <td>alta floresta d oeste</td>\n",
              "      <td>28/03/2020</td>\n",
              "      <td>13.0</td>\n",
              "      <td>22945.0</td>\n",
              "      <td>0.0</td>\n",
              "      <td>0.0</td>\n",
              "      <td>0.0</td>\n",
              "      <td>0.0</td>\n",
              "      <td>0.0</td>\n",
              "      <td>0.0</td>\n",
              "      <td>Norte</td>\n",
              "      <td>RO</td>\n",
              "      <td>Leste Rondoniense</td>\n",
              "      <td>19611,75</td>\n",
              "    </tr>\n",
              "    <tr>\n",
              "      <th>2</th>\n",
              "      <td>alta floresta d oeste</td>\n",
              "      <td>29/03/2020</td>\n",
              "      <td>14.0</td>\n",
              "      <td>22945.0</td>\n",
              "      <td>0.0</td>\n",
              "      <td>0.0</td>\n",
              "      <td>0.0</td>\n",
              "      <td>0.0</td>\n",
              "      <td>0.0</td>\n",
              "      <td>0.0</td>\n",
              "      <td>Norte</td>\n",
              "      <td>RO</td>\n",
              "      <td>Leste Rondoniense</td>\n",
              "      <td>19611,75</td>\n",
              "    </tr>\n",
              "    <tr>\n",
              "      <th>3</th>\n",
              "      <td>alta floresta d oeste</td>\n",
              "      <td>30/03/2020</td>\n",
              "      <td>14.0</td>\n",
              "      <td>22945.0</td>\n",
              "      <td>0.0</td>\n",
              "      <td>0.0</td>\n",
              "      <td>0.0</td>\n",
              "      <td>0.0</td>\n",
              "      <td>0.0</td>\n",
              "      <td>0.0</td>\n",
              "      <td>Norte</td>\n",
              "      <td>RO</td>\n",
              "      <td>Leste Rondoniense</td>\n",
              "      <td>19611,75</td>\n",
              "    </tr>\n",
              "    <tr>\n",
              "      <th>4</th>\n",
              "      <td>alta floresta d oeste</td>\n",
              "      <td>31/03/2020</td>\n",
              "      <td>14.0</td>\n",
              "      <td>22945.0</td>\n",
              "      <td>0.0</td>\n",
              "      <td>0.0</td>\n",
              "      <td>0.0</td>\n",
              "      <td>0.0</td>\n",
              "      <td>0.0</td>\n",
              "      <td>0.0</td>\n",
              "      <td>Norte</td>\n",
              "      <td>RO</td>\n",
              "      <td>Leste Rondoniense</td>\n",
              "      <td>19611,75</td>\n",
              "    </tr>\n",
              "    <tr>\n",
              "      <th>...</th>\n",
              "      <td>...</td>\n",
              "      <td>...</td>\n",
              "      <td>...</td>\n",
              "      <td>...</td>\n",
              "      <td>...</td>\n",
              "      <td>...</td>\n",
              "      <td>...</td>\n",
              "      <td>...</td>\n",
              "      <td>...</td>\n",
              "      <td>...</td>\n",
              "      <td>...</td>\n",
              "      <td>...</td>\n",
              "      <td>...</td>\n",
              "      <td>...</td>\n",
              "    </tr>\n",
              "    <tr>\n",
              "      <th>1163941</th>\n",
              "      <td>tres de maio</td>\n",
              "      <td>26/08/2020</td>\n",
              "      <td>35.0</td>\n",
              "      <td>23906.0</td>\n",
              "      <td>141.0</td>\n",
              "      <td>10.0</td>\n",
              "      <td>0.0</td>\n",
              "      <td>0.0</td>\n",
              "      <td>0.0</td>\n",
              "      <td>0.0</td>\n",
              "      <td>Sul</td>\n",
              "      <td>RS</td>\n",
              "      <td>Noroeste Rio-grandense</td>\n",
              "      <td>38626,61</td>\n",
              "    </tr>\n",
              "    <tr>\n",
              "      <th>1163942</th>\n",
              "      <td>tres de maio</td>\n",
              "      <td>27/08/2020</td>\n",
              "      <td>35.0</td>\n",
              "      <td>23906.0</td>\n",
              "      <td>145.0</td>\n",
              "      <td>4.0</td>\n",
              "      <td>0.0</td>\n",
              "      <td>0.0</td>\n",
              "      <td>0.0</td>\n",
              "      <td>0.0</td>\n",
              "      <td>Sul</td>\n",
              "      <td>RS</td>\n",
              "      <td>Noroeste Rio-grandense</td>\n",
              "      <td>38626,61</td>\n",
              "    </tr>\n",
              "    <tr>\n",
              "      <th>1163943</th>\n",
              "      <td>tres de maio</td>\n",
              "      <td>28/08/2020</td>\n",
              "      <td>35.0</td>\n",
              "      <td>23906.0</td>\n",
              "      <td>146.0</td>\n",
              "      <td>1.0</td>\n",
              "      <td>0.0</td>\n",
              "      <td>0.0</td>\n",
              "      <td>0.0</td>\n",
              "      <td>0.0</td>\n",
              "      <td>Sul</td>\n",
              "      <td>RS</td>\n",
              "      <td>Noroeste Rio-grandense</td>\n",
              "      <td>38626,61</td>\n",
              "    </tr>\n",
              "    <tr>\n",
              "      <th>1163944</th>\n",
              "      <td>tres de maio</td>\n",
              "      <td>29/08/2020</td>\n",
              "      <td>35.0</td>\n",
              "      <td>23906.0</td>\n",
              "      <td>151.0</td>\n",
              "      <td>5.0</td>\n",
              "      <td>2.0</td>\n",
              "      <td>2.0</td>\n",
              "      <td>0.0</td>\n",
              "      <td>0.0</td>\n",
              "      <td>Sul</td>\n",
              "      <td>RS</td>\n",
              "      <td>Noroeste Rio-grandense</td>\n",
              "      <td>38626,61</td>\n",
              "    </tr>\n",
              "    <tr>\n",
              "      <th>1163945</th>\n",
              "      <td>tres de maio</td>\n",
              "      <td>30/08/2020</td>\n",
              "      <td>36.0</td>\n",
              "      <td>23906.0</td>\n",
              "      <td>151.0</td>\n",
              "      <td>0.0</td>\n",
              "      <td>2.0</td>\n",
              "      <td>0.0</td>\n",
              "      <td>0.0</td>\n",
              "      <td>0.0</td>\n",
              "      <td>Sul</td>\n",
              "      <td>RS</td>\n",
              "      <td>Noroeste Rio-grandense</td>\n",
              "      <td>38626,61</td>\n",
              "    </tr>\n",
              "  </tbody>\n",
              "</table>\n",
              "<p>1163942 rows × 14 columns</p>\n",
              "</div>"
            ],
            "text/plain": [
              "                     municipio        data  ...             mesorregiao       pib\n",
              "0        alta floresta d oeste  27/03/2020  ...       Leste Rondoniense  19611,75\n",
              "1        alta floresta d oeste  28/03/2020  ...       Leste Rondoniense  19611,75\n",
              "2        alta floresta d oeste  29/03/2020  ...       Leste Rondoniense  19611,75\n",
              "3        alta floresta d oeste  30/03/2020  ...       Leste Rondoniense  19611,75\n",
              "4        alta floresta d oeste  31/03/2020  ...       Leste Rondoniense  19611,75\n",
              "...                        ...         ...  ...                     ...       ...\n",
              "1163941           tres de maio  26/08/2020  ...  Noroeste Rio-grandense  38626,61\n",
              "1163942           tres de maio  27/08/2020  ...  Noroeste Rio-grandense  38626,61\n",
              "1163943           tres de maio  28/08/2020  ...  Noroeste Rio-grandense  38626,61\n",
              "1163944           tres de maio  29/08/2020  ...  Noroeste Rio-grandense  38626,61\n",
              "1163945           tres de maio  30/08/2020  ...  Noroeste Rio-grandense  38626,61\n",
              "\n",
              "[1163942 rows x 14 columns]"
            ]
          },
          "metadata": {
            "tags": []
          },
          "execution_count": 163
        }
      ]
    },
    {
      "cell_type": "code",
      "metadata": {
        "id": "MhxhDWbHNXjV"
      },
      "source": [
        ""
      ],
      "execution_count": 163,
      "outputs": []
    },
    {
      "cell_type": "code",
      "metadata": {
        "id": "1gpEm3dENXjV"
      },
      "source": [
        "#Padronização dos tipos de dados dos atributos"
      ],
      "execution_count": 164,
      "outputs": []
    },
    {
      "cell_type": "code",
      "metadata": {
        "id": "akMaTQC3NXjV"
      },
      "source": [
        "#Tipo Inteiro"
      ],
      "execution_count": 165,
      "outputs": []
    },
    {
      "cell_type": "code",
      "metadata": {
        "id": "CKazLi0-NXjV"
      },
      "source": [
        "dfCovid['semanaEpi'] = dfCovid['semanaEpi'].astype(int)"
      ],
      "execution_count": 166,
      "outputs": []
    },
    {
      "cell_type": "code",
      "metadata": {
        "id": "aPjiLvOwNXjV"
      },
      "source": [
        "dfCovid['popMunici'] = dfCovid['popMunici'].astype(int)"
      ],
      "execution_count": 167,
      "outputs": []
    },
    {
      "cell_type": "code",
      "metadata": {
        "id": "sQlyGrnINXjV"
      },
      "source": [
        "dfCovid['casosAcumulado'] = dfCovid['casosAcumulado'].astype(int)"
      ],
      "execution_count": 168,
      "outputs": []
    },
    {
      "cell_type": "code",
      "metadata": {
        "id": "k2Ffuzt3NXjV"
      },
      "source": [
        "dfCovid['obitosAcumulado'] = dfCovid['obitosAcumulado'].astype(int)"
      ],
      "execution_count": 169,
      "outputs": []
    },
    {
      "cell_type": "code",
      "metadata": {
        "id": "hLr2UYqNNXjV"
      },
      "source": [
        "dfCovid['obitosNovos'] = dfCovid['obitosNovos'].astype(int)"
      ],
      "execution_count": 170,
      "outputs": []
    },
    {
      "cell_type": "code",
      "metadata": {
        "id": "kQtCDCMDNXjV"
      },
      "source": [
        "dfCovid['recNovos'] = dfCovid['recNovos'].astype(int)"
      ],
      "execution_count": 171,
      "outputs": []
    },
    {
      "cell_type": "code",
      "metadata": {
        "id": "U8jWYJQINXjV"
      },
      "source": [
        "dfCovid['emAcompNovos'] = dfCovid['emAcompNovos'].astype(int)"
      ],
      "execution_count": 172,
      "outputs": []
    },
    {
      "cell_type": "code",
      "metadata": {
        "id": "T0O81g9gNXjV"
      },
      "source": [
        "dfCovid['casosNovos'] = dfCovid['casosNovos'].astype(int)"
      ],
      "execution_count": 173,
      "outputs": []
    },
    {
      "cell_type": "code",
      "metadata": {
        "id": "AWEUIs09NXjW"
      },
      "source": [
        ""
      ],
      "execution_count": 173,
      "outputs": []
    },
    {
      "cell_type": "code",
      "metadata": {
        "id": "vDMDWAOPNXjW"
      },
      "source": [
        ""
      ],
      "execution_count": 173,
      "outputs": []
    },
    {
      "cell_type": "code",
      "metadata": {
        "id": "A6-zMCIGNXjW"
      },
      "source": [
        "#Tipo Data"
      ],
      "execution_count": 174,
      "outputs": []
    },
    {
      "cell_type": "code",
      "metadata": {
        "id": "k123iekoNXjW"
      },
      "source": [
        "from datetime import datetime"
      ],
      "execution_count": 175,
      "outputs": []
    },
    {
      "cell_type": "code",
      "metadata": {
        "id": "MMOLdFcONXjW"
      },
      "source": [
        "dfCovid2 = dfCovid.copy()"
      ],
      "execution_count": 176,
      "outputs": []
    },
    {
      "cell_type": "code",
      "metadata": {
        "id": "7jxs1DuRNXjW"
      },
      "source": [
        "dfCovid['data'] = pd.to_datetime(dfCovid['data'])"
      ],
      "execution_count": 177,
      "outputs": []
    },
    {
      "cell_type": "code",
      "metadata": {
        "id": "8eFJkkG6NXjW"
      },
      "source": [
        "dfCovid['data'] = dfCovid['data'].dt.strftime('%d/%m/%Y')"
      ],
      "execution_count": 178,
      "outputs": []
    },
    {
      "cell_type": "code",
      "metadata": {
        "id": "Qltso-eQNXjW"
      },
      "source": [
        "dfCovid.drop(['pib'], axis=1, inplace=True)"
      ],
      "execution_count": 179,
      "outputs": []
    },
    {
      "cell_type": "code",
      "metadata": {
        "colab": {
          "base_uri": "https://localhost:8080/",
          "height": 399
        },
        "id": "5JgZHEGFNXjW",
        "outputId": "48e1ef38-0562-4d5b-97a1-6f000e7ad708"
      },
      "source": [
        "dfCovid"
      ],
      "execution_count": 180,
      "outputs": [
        {
          "output_type": "execute_result",
          "data": {
            "text/html": [
              "<div>\n",
              "<style scoped>\n",
              "    .dataframe tbody tr th:only-of-type {\n",
              "        vertical-align: middle;\n",
              "    }\n",
              "\n",
              "    .dataframe tbody tr th {\n",
              "        vertical-align: top;\n",
              "    }\n",
              "\n",
              "    .dataframe thead th {\n",
              "        text-align: right;\n",
              "    }\n",
              "</style>\n",
              "<table border=\"1\" class=\"dataframe\">\n",
              "  <thead>\n",
              "    <tr style=\"text-align: right;\">\n",
              "      <th></th>\n",
              "      <th>municipio</th>\n",
              "      <th>data</th>\n",
              "      <th>semanaEpi</th>\n",
              "      <th>popMunici</th>\n",
              "      <th>casosAcumulado</th>\n",
              "      <th>casosNovos</th>\n",
              "      <th>obitosAcumulado</th>\n",
              "      <th>obitosNovos</th>\n",
              "      <th>recNovos</th>\n",
              "      <th>emAcompNovos</th>\n",
              "      <th>regiaopais</th>\n",
              "      <th>estado</th>\n",
              "      <th>mesorregiao</th>\n",
              "    </tr>\n",
              "  </thead>\n",
              "  <tbody>\n",
              "    <tr>\n",
              "      <th>0</th>\n",
              "      <td>alta floresta d oeste</td>\n",
              "      <td>27/03/2020</td>\n",
              "      <td>13</td>\n",
              "      <td>22945</td>\n",
              "      <td>0</td>\n",
              "      <td>0</td>\n",
              "      <td>0</td>\n",
              "      <td>0</td>\n",
              "      <td>0</td>\n",
              "      <td>0</td>\n",
              "      <td>Norte</td>\n",
              "      <td>RO</td>\n",
              "      <td>Leste Rondoniense</td>\n",
              "    </tr>\n",
              "    <tr>\n",
              "      <th>1</th>\n",
              "      <td>alta floresta d oeste</td>\n",
              "      <td>28/03/2020</td>\n",
              "      <td>13</td>\n",
              "      <td>22945</td>\n",
              "      <td>0</td>\n",
              "      <td>0</td>\n",
              "      <td>0</td>\n",
              "      <td>0</td>\n",
              "      <td>0</td>\n",
              "      <td>0</td>\n",
              "      <td>Norte</td>\n",
              "      <td>RO</td>\n",
              "      <td>Leste Rondoniense</td>\n",
              "    </tr>\n",
              "    <tr>\n",
              "      <th>2</th>\n",
              "      <td>alta floresta d oeste</td>\n",
              "      <td>29/03/2020</td>\n",
              "      <td>14</td>\n",
              "      <td>22945</td>\n",
              "      <td>0</td>\n",
              "      <td>0</td>\n",
              "      <td>0</td>\n",
              "      <td>0</td>\n",
              "      <td>0</td>\n",
              "      <td>0</td>\n",
              "      <td>Norte</td>\n",
              "      <td>RO</td>\n",
              "      <td>Leste Rondoniense</td>\n",
              "    </tr>\n",
              "    <tr>\n",
              "      <th>3</th>\n",
              "      <td>alta floresta d oeste</td>\n",
              "      <td>30/03/2020</td>\n",
              "      <td>14</td>\n",
              "      <td>22945</td>\n",
              "      <td>0</td>\n",
              "      <td>0</td>\n",
              "      <td>0</td>\n",
              "      <td>0</td>\n",
              "      <td>0</td>\n",
              "      <td>0</td>\n",
              "      <td>Norte</td>\n",
              "      <td>RO</td>\n",
              "      <td>Leste Rondoniense</td>\n",
              "    </tr>\n",
              "    <tr>\n",
              "      <th>4</th>\n",
              "      <td>alta floresta d oeste</td>\n",
              "      <td>31/03/2020</td>\n",
              "      <td>14</td>\n",
              "      <td>22945</td>\n",
              "      <td>0</td>\n",
              "      <td>0</td>\n",
              "      <td>0</td>\n",
              "      <td>0</td>\n",
              "      <td>0</td>\n",
              "      <td>0</td>\n",
              "      <td>Norte</td>\n",
              "      <td>RO</td>\n",
              "      <td>Leste Rondoniense</td>\n",
              "    </tr>\n",
              "    <tr>\n",
              "      <th>...</th>\n",
              "      <td>...</td>\n",
              "      <td>...</td>\n",
              "      <td>...</td>\n",
              "      <td>...</td>\n",
              "      <td>...</td>\n",
              "      <td>...</td>\n",
              "      <td>...</td>\n",
              "      <td>...</td>\n",
              "      <td>...</td>\n",
              "      <td>...</td>\n",
              "      <td>...</td>\n",
              "      <td>...</td>\n",
              "      <td>...</td>\n",
              "    </tr>\n",
              "    <tr>\n",
              "      <th>1163941</th>\n",
              "      <td>tres de maio</td>\n",
              "      <td>26/08/2020</td>\n",
              "      <td>35</td>\n",
              "      <td>23906</td>\n",
              "      <td>141</td>\n",
              "      <td>10</td>\n",
              "      <td>0</td>\n",
              "      <td>0</td>\n",
              "      <td>0</td>\n",
              "      <td>0</td>\n",
              "      <td>Sul</td>\n",
              "      <td>RS</td>\n",
              "      <td>Noroeste Rio-grandense</td>\n",
              "    </tr>\n",
              "    <tr>\n",
              "      <th>1163942</th>\n",
              "      <td>tres de maio</td>\n",
              "      <td>27/08/2020</td>\n",
              "      <td>35</td>\n",
              "      <td>23906</td>\n",
              "      <td>145</td>\n",
              "      <td>4</td>\n",
              "      <td>0</td>\n",
              "      <td>0</td>\n",
              "      <td>0</td>\n",
              "      <td>0</td>\n",
              "      <td>Sul</td>\n",
              "      <td>RS</td>\n",
              "      <td>Noroeste Rio-grandense</td>\n",
              "    </tr>\n",
              "    <tr>\n",
              "      <th>1163943</th>\n",
              "      <td>tres de maio</td>\n",
              "      <td>28/08/2020</td>\n",
              "      <td>35</td>\n",
              "      <td>23906</td>\n",
              "      <td>146</td>\n",
              "      <td>1</td>\n",
              "      <td>0</td>\n",
              "      <td>0</td>\n",
              "      <td>0</td>\n",
              "      <td>0</td>\n",
              "      <td>Sul</td>\n",
              "      <td>RS</td>\n",
              "      <td>Noroeste Rio-grandense</td>\n",
              "    </tr>\n",
              "    <tr>\n",
              "      <th>1163944</th>\n",
              "      <td>tres de maio</td>\n",
              "      <td>29/08/2020</td>\n",
              "      <td>35</td>\n",
              "      <td>23906</td>\n",
              "      <td>151</td>\n",
              "      <td>5</td>\n",
              "      <td>2</td>\n",
              "      <td>2</td>\n",
              "      <td>0</td>\n",
              "      <td>0</td>\n",
              "      <td>Sul</td>\n",
              "      <td>RS</td>\n",
              "      <td>Noroeste Rio-grandense</td>\n",
              "    </tr>\n",
              "    <tr>\n",
              "      <th>1163945</th>\n",
              "      <td>tres de maio</td>\n",
              "      <td>30/08/2020</td>\n",
              "      <td>36</td>\n",
              "      <td>23906</td>\n",
              "      <td>151</td>\n",
              "      <td>0</td>\n",
              "      <td>2</td>\n",
              "      <td>0</td>\n",
              "      <td>0</td>\n",
              "      <td>0</td>\n",
              "      <td>Sul</td>\n",
              "      <td>RS</td>\n",
              "      <td>Noroeste Rio-grandense</td>\n",
              "    </tr>\n",
              "  </tbody>\n",
              "</table>\n",
              "<p>1163942 rows × 13 columns</p>\n",
              "</div>"
            ],
            "text/plain": [
              "                     municipio        data  ...  estado             mesorregiao\n",
              "0        alta floresta d oeste  27/03/2020  ...      RO       Leste Rondoniense\n",
              "1        alta floresta d oeste  28/03/2020  ...      RO       Leste Rondoniense\n",
              "2        alta floresta d oeste  29/03/2020  ...      RO       Leste Rondoniense\n",
              "3        alta floresta d oeste  30/03/2020  ...      RO       Leste Rondoniense\n",
              "4        alta floresta d oeste  31/03/2020  ...      RO       Leste Rondoniense\n",
              "...                        ...         ...  ...     ...                     ...\n",
              "1163941           tres de maio  26/08/2020  ...      RS  Noroeste Rio-grandense\n",
              "1163942           tres de maio  27/08/2020  ...      RS  Noroeste Rio-grandense\n",
              "1163943           tres de maio  28/08/2020  ...      RS  Noroeste Rio-grandense\n",
              "1163944           tres de maio  29/08/2020  ...      RS  Noroeste Rio-grandense\n",
              "1163945           tres de maio  30/08/2020  ...      RS  Noroeste Rio-grandense\n",
              "\n",
              "[1163942 rows x 13 columns]"
            ]
          },
          "metadata": {
            "tags": []
          },
          "execution_count": 180
        }
      ]
    },
    {
      "cell_type": "code",
      "metadata": {
        "id": "ObjRoFDdNXjW"
      },
      "source": [
        ""
      ],
      "execution_count": 180,
      "outputs": []
    },
    {
      "cell_type": "code",
      "metadata": {
        "id": "ADWhI8tsNXjW"
      },
      "source": [
        ""
      ],
      "execution_count": 180,
      "outputs": []
    },
    {
      "cell_type": "code",
      "metadata": {
        "colab": {
          "base_uri": "https://localhost:8080/"
        },
        "id": "PLdbnot6NXjW",
        "outputId": "b79dc0a9-3e0d-437d-fb8b-c4777a740211"
      },
      "source": [
        "dfCovid.info()"
      ],
      "execution_count": 181,
      "outputs": [
        {
          "output_type": "stream",
          "text": [
            "<class 'pandas.core.frame.DataFrame'>\n",
            "Int64Index: 1163942 entries, 0 to 1163945\n",
            "Data columns (total 13 columns):\n",
            " #   Column           Non-Null Count    Dtype \n",
            "---  ------           --------------    ----- \n",
            " 0   municipio        1163942 non-null  object\n",
            " 1   data             1163942 non-null  object\n",
            " 2   semanaEpi        1163942 non-null  int64 \n",
            " 3   popMunici        1163942 non-null  int64 \n",
            " 4   casosAcumulado   1163942 non-null  int64 \n",
            " 5   casosNovos       1163942 non-null  int64 \n",
            " 6   obitosAcumulado  1163942 non-null  int64 \n",
            " 7   obitosNovos      1163942 non-null  int64 \n",
            " 8   recNovos         1163942 non-null  int64 \n",
            " 9   emAcompNovos     1163942 non-null  int64 \n",
            " 10  regiaopais       1163942 non-null  object\n",
            " 11  estado           1163942 non-null  object\n",
            " 12  mesorregiao      1163942 non-null  object\n",
            "dtypes: int64(8), object(5)\n",
            "memory usage: 124.3+ MB\n"
          ],
          "name": "stdout"
        }
      ]
    },
    {
      "cell_type": "code",
      "metadata": {
        "id": "sLpYmWtxNXjW"
      },
      "source": [
        ""
      ],
      "execution_count": 181,
      "outputs": []
    },
    {
      "cell_type": "code",
      "metadata": {
        "colab": {
          "base_uri": "https://localhost:8080/",
          "height": 282
        },
        "id": "V93ejfB0NXjW",
        "outputId": "d76b1256-b719-4c71-fabf-cecba0bec043"
      },
      "source": [
        "dfCovid.describe()"
      ],
      "execution_count": 182,
      "outputs": [
        {
          "output_type": "execute_result",
          "data": {
            "text/html": [
              "<div>\n",
              "<style scoped>\n",
              "    .dataframe tbody tr th:only-of-type {\n",
              "        vertical-align: middle;\n",
              "    }\n",
              "\n",
              "    .dataframe tbody tr th {\n",
              "        vertical-align: top;\n",
              "    }\n",
              "\n",
              "    .dataframe thead th {\n",
              "        text-align: right;\n",
              "    }\n",
              "</style>\n",
              "<table border=\"1\" class=\"dataframe\">\n",
              "  <thead>\n",
              "    <tr style=\"text-align: right;\">\n",
              "      <th></th>\n",
              "      <th>semanaEpi</th>\n",
              "      <th>popMunici</th>\n",
              "      <th>casosAcumulado</th>\n",
              "      <th>casosNovos</th>\n",
              "      <th>obitosAcumulado</th>\n",
              "      <th>obitosNovos</th>\n",
              "      <th>recNovos</th>\n",
              "      <th>emAcompNovos</th>\n",
              "    </tr>\n",
              "  </thead>\n",
              "  <tbody>\n",
              "    <tr>\n",
              "      <th>count</th>\n",
              "      <td>1.163942e+06</td>\n",
              "      <td>1.163942e+06</td>\n",
              "      <td>1.163942e+06</td>\n",
              "      <td>1.163942e+06</td>\n",
              "      <td>1.163942e+06</td>\n",
              "      <td>1.163942e+06</td>\n",
              "      <td>1163942.0</td>\n",
              "      <td>1163942.0</td>\n",
              "    </tr>\n",
              "    <tr>\n",
              "      <th>mean</th>\n",
              "      <td>2.785320e+01</td>\n",
              "      <td>3.751470e+04</td>\n",
              "      <td>3.579223e+02</td>\n",
              "      <td>4.322519e+00</td>\n",
              "      <td>1.262637e+01</td>\n",
              "      <td>1.316784e-01</td>\n",
              "      <td>0.0</td>\n",
              "      <td>0.0</td>\n",
              "    </tr>\n",
              "    <tr>\n",
              "      <th>std</th>\n",
              "      <td>8.455084e+00</td>\n",
              "      <td>2.164684e+05</td>\n",
              "      <td>3.084192e+03</td>\n",
              "      <td>3.783890e+01</td>\n",
              "      <td>1.673975e+02</td>\n",
              "      <td>1.795229e+00</td>\n",
              "      <td>0.0</td>\n",
              "      <td>0.0</td>\n",
              "    </tr>\n",
              "    <tr>\n",
              "      <th>min</th>\n",
              "      <td>1.300000e+01</td>\n",
              "      <td>7.810000e+02</td>\n",
              "      <td>0.000000e+00</td>\n",
              "      <td>-2.407000e+03</td>\n",
              "      <td>0.000000e+00</td>\n",
              "      <td>-5.800000e+01</td>\n",
              "      <td>0.0</td>\n",
              "      <td>0.0</td>\n",
              "    </tr>\n",
              "    <tr>\n",
              "      <th>25%</th>\n",
              "      <td>2.100000e+01</td>\n",
              "      <td>5.610000e+03</td>\n",
              "      <td>1.000000e+00</td>\n",
              "      <td>0.000000e+00</td>\n",
              "      <td>0.000000e+00</td>\n",
              "      <td>0.000000e+00</td>\n",
              "      <td>0.0</td>\n",
              "      <td>0.0</td>\n",
              "    </tr>\n",
              "    <tr>\n",
              "      <th>50%</th>\n",
              "      <td>2.800000e+01</td>\n",
              "      <td>1.196400e+04</td>\n",
              "      <td>2.300000e+01</td>\n",
              "      <td>0.000000e+00</td>\n",
              "      <td>0.000000e+00</td>\n",
              "      <td>0.000000e+00</td>\n",
              "      <td>0.0</td>\n",
              "      <td>0.0</td>\n",
              "    </tr>\n",
              "    <tr>\n",
              "      <th>75%</th>\n",
              "      <td>3.500000e+01</td>\n",
              "      <td>2.596700e+04</td>\n",
              "      <td>1.470000e+02</td>\n",
              "      <td>1.000000e+00</td>\n",
              "      <td>3.000000e+00</td>\n",
              "      <td>0.000000e+00</td>\n",
              "      <td>0.0</td>\n",
              "      <td>0.0</td>\n",
              "    </tr>\n",
              "    <tr>\n",
              "      <th>max</th>\n",
              "      <td>4.200000e+01</td>\n",
              "      <td>1.225202e+07</td>\n",
              "      <td>3.053790e+05</td>\n",
              "      <td>7.063000e+03</td>\n",
              "      <td>1.328300e+04</td>\n",
              "      <td>2.270000e+02</td>\n",
              "      <td>0.0</td>\n",
              "      <td>0.0</td>\n",
              "    </tr>\n",
              "  </tbody>\n",
              "</table>\n",
              "</div>"
            ],
            "text/plain": [
              "          semanaEpi     popMunici  ...   recNovos  emAcompNovos\n",
              "count  1.163942e+06  1.163942e+06  ...  1163942.0     1163942.0\n",
              "mean   2.785320e+01  3.751470e+04  ...        0.0           0.0\n",
              "std    8.455084e+00  2.164684e+05  ...        0.0           0.0\n",
              "min    1.300000e+01  7.810000e+02  ...        0.0           0.0\n",
              "25%    2.100000e+01  5.610000e+03  ...        0.0           0.0\n",
              "50%    2.800000e+01  1.196400e+04  ...        0.0           0.0\n",
              "75%    3.500000e+01  2.596700e+04  ...        0.0           0.0\n",
              "max    4.200000e+01  1.225202e+07  ...        0.0           0.0\n",
              "\n",
              "[8 rows x 8 columns]"
            ]
          },
          "metadata": {
            "tags": []
          },
          "execution_count": 182
        }
      ]
    },
    {
      "cell_type": "code",
      "metadata": {
        "id": "6xdss7XCNXjX"
      },
      "source": [
        ""
      ],
      "execution_count": 182,
      "outputs": []
    },
    {
      "cell_type": "code",
      "metadata": {
        "id": "8rju8eoiNXjX"
      },
      "source": [
        "#Eliminação de coluna sem nenhuma informação"
      ],
      "execution_count": 183,
      "outputs": []
    },
    {
      "cell_type": "code",
      "metadata": {
        "id": "7M2_ALijNXjX"
      },
      "source": [
        "dfCovid.drop(['emAcompNovos'], inplace=True, axis=1)"
      ],
      "execution_count": 184,
      "outputs": []
    },
    {
      "cell_type": "code",
      "metadata": {
        "id": "KQwAZ0IdNXjX"
      },
      "source": [
        "dfCovid.drop(['recNovos'], inplace=True, axis=1)"
      ],
      "execution_count": 185,
      "outputs": []
    },
    {
      "cell_type": "code",
      "metadata": {
        "id": "FvHsiLkRNXjX"
      },
      "source": [
        ""
      ],
      "execution_count": 185,
      "outputs": []
    },
    {
      "cell_type": "code",
      "metadata": {
        "id": "m9rmS8xENXjX"
      },
      "source": [
        "#Correção de outliers"
      ],
      "execution_count": 186,
      "outputs": []
    },
    {
      "cell_type": "code",
      "metadata": {
        "id": "WplOqemvNXjX"
      },
      "source": [
        "dfCovid['casosNovos'] = dfCovid['casosNovos'].abs()"
      ],
      "execution_count": 187,
      "outputs": []
    },
    {
      "cell_type": "code",
      "metadata": {
        "id": "notqzZUZNXjX"
      },
      "source": [
        "dfCovid['obitosNovos'] = dfCovid['obitosNovos'].abs()"
      ],
      "execution_count": 188,
      "outputs": []
    },
    {
      "cell_type": "code",
      "metadata": {
        "id": "rvWoteHqNXjX"
      },
      "source": [
        ""
      ],
      "execution_count": 188,
      "outputs": []
    },
    {
      "cell_type": "code",
      "metadata": {
        "id": "Gr6DeHrdNXjX"
      },
      "source": [
        "#Exportação do dataset criado"
      ],
      "execution_count": 189,
      "outputs": []
    },
    {
      "cell_type": "code",
      "metadata": {
        "id": "EWdvFjkxNXjX"
      },
      "source": [
        "dfCovid.to_csv('/content/drive/MyDrive/Colab Notebooks/ProjetoFinal/dfCovidFinal.csv')"
      ],
      "execution_count": 190,
      "outputs": []
    },
    {
      "cell_type": "code",
      "metadata": {
        "id": "G3NrqOzeNXjX"
      },
      "source": [
        ""
      ],
      "execution_count": 190,
      "outputs": []
    },
    {
      "cell_type": "code",
      "metadata": {
        "id": "TwTWVShyNXjX"
      },
      "source": [
        ""
      ],
      "execution_count": 190,
      "outputs": []
    },
    {
      "cell_type": "code",
      "metadata": {
        "id": "BRMGnXUANXjX"
      },
      "source": [
        ""
      ],
      "execution_count": 190,
      "outputs": []
    }
  ]
}